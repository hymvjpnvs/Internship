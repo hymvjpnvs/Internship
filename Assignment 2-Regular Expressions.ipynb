{
 "cells": [
  {
   "cell_type": "markdown",
   "id": "0fbb0011",
   "metadata": {},
   "source": [
    "# Assignment 2 - Regular Expression"
   ]
  },
  {
   "cell_type": "code",
   "execution_count": 2,
   "id": "bea33d7d",
   "metadata": {},
   "outputs": [],
   "source": [
    "import re\n",
    "import pandas as pd"
   ]
  },
  {
   "cell_type": "markdown",
   "id": "6131583e",
   "metadata": {},
   "source": [
    "# Question 1- Write a Python program to replace all occurrences of a space, comma, or dot with a colon."
   ]
  },
  {
   "cell_type": "code",
   "execution_count": 34,
   "id": "c70762a4",
   "metadata": {},
   "outputs": [
    {
     "name": "stdout",
     "output_type": "stream",
     "text": [
      "Python:Exercises::PHP:exercises:\n"
     ]
    }
   ],
   "source": [
    "text = 'Python Exercises, PHP exercises.'\n",
    "pattern = '[ ,.]'\n",
    "result = (re.sub(pattern,\":\",text))\n",
    "print(result)"
   ]
  },
  {
   "cell_type": "markdown",
   "id": "6fd4e192",
   "metadata": {},
   "source": [
    "# Question 2-  Create a dataframe using the dictionary below and remove everything (commas (,), !, XXXX, ;, etc.) from the columns except words."
   ]
  },
  {
   "cell_type": "code",
   "execution_count": 22,
   "id": "7c202f4c",
   "metadata": {},
   "outputs": [
    {
     "name": "stdout",
     "output_type": "stream",
     "text": [
      "0      hello world\n",
      "1       XXXXX test\n",
      "2    four five six\n",
      "Name: SUMMARY, dtype: object\n"
     ]
    }
   ],
   "source": [
    "dictionary = {'SUMMARY' : ['hello, world!', 'XXXXX test', '123four, five:; six...']}\n",
    "df = pd.DataFrame(dictionary)\n",
    "df = df['SUMMARY'].str.replace(r'[^a-zA-Z\\s]','',regex=True)\n",
    "print(df)"
   ]
  },
  {
   "cell_type": "markdown",
   "id": "6a5a5e24",
   "metadata": {},
   "source": [
    "# Question 3- Create a function in python to find all words that are at least 4 characters long in a string. The use of the re.compile() method is mandatory."
   ]
  },
  {
   "cell_type": "code",
   "execution_count": 3,
   "id": "f129520f",
   "metadata": {},
   "outputs": [
    {
     "name": "stdout",
     "output_type": "stream",
     "text": [
      "['this', 'string']\n"
     ]
    }
   ],
   "source": [
    "text = 'this is a string'\n",
    "def find_words(string):\n",
    "    pattern = re.compile(r'\\b\\w{4,}\\b')\n",
    "    words = pattern.findall(string)\n",
    "    return words\n",
    "\n",
    "result = find_words(text)\n",
    "print(result)"
   ]
  },
  {
   "cell_type": "markdown",
   "id": "e0e7174b",
   "metadata": {},
   "source": [
    "# Question 4- Create a function in python to find all three, four, and five character words in a string. The use of the re.compile() method is mandatory."
   ]
  },
  {
   "cell_type": "code",
   "execution_count": 4,
   "id": "e47ddb2b",
   "metadata": {},
   "outputs": [
    {
     "name": "stdout",
     "output_type": "stream",
     "text": [
      "['Hello', 'Data', 'World']\n"
     ]
    }
   ],
   "source": [
    "text = 'Hello Data Science World'\n",
    "def find_words(string):\n",
    "    pattern = re.compile(r'\\b\\w{3,5}\\b')\n",
    "    words = pattern.findall(string)\n",
    "    return words\n",
    "\n",
    "result = find_words(text)\n",
    "print(result)"
   ]
  },
  {
   "cell_type": "markdown",
   "id": "d51e8cc2",
   "metadata": {},
   "source": [
    "# Question 5- Create a function in Python to remove the parenthesis in a list of strings. The use of the re.compile() method is mandatory."
   ]
  },
  {
   "cell_type": "code",
   "execution_count": 144,
   "id": "53cd8fe4",
   "metadata": {},
   "outputs": [
    {
     "name": "stdout",
     "output_type": "stream",
     "text": [
      "['example .com', 'hr@fliprobo .com', 'github .com', 'Hello Data Science World', 'Data Scientist']\n"
     ]
    }
   ],
   "source": [
    "text = [\"example (.com)\", \"hr@fliprobo (.com)\", \"github (.com)\", \"Hello (Data Science World)\", \"Data (Scientist)\"]\n",
    "def remove_parentheses(textstring):\n",
    "    pattern = re.compile(r'\\((.*?)\\)')\n",
    "    result_list =[]\n",
    "    for text in textstring:\n",
    "        result = pattern.sub(r'\\1',text)\n",
    "        result_list.append(result)\n",
    "    return result_list\n",
    "    \n",
    "output = remove_parentheses(text)\n",
    "print(output)"
   ]
  },
  {
   "cell_type": "markdown",
   "id": "42073c2e",
   "metadata": {},
   "source": [
    "# Question 6- Write a python program to remove the parenthesis area from the text stored in the text file using Regular Expression."
   ]
  },
  {
   "cell_type": "code",
   "execution_count": 36,
   "id": "9afe8e3e",
   "metadata": {},
   "outputs": [
    {
     "name": "stdout",
     "output_type": "stream",
     "text": [
      " [\"example \", \"hr@fliprobo \", \"github \", \"Hello \", \"Data \"]\n"
     ]
    }
   ],
   "source": [
    "with open('text file.txt','r')as file:\n",
    "    text = file.read()\n",
    "    pattern = '\\([^()]*\\)'\n",
    "    result = re.sub(pattern, '',text)\n",
    "    print(result)"
   ]
  },
  {
   "cell_type": "markdown",
   "id": "a23366be",
   "metadata": {},
   "source": [
    "# Question 7- Write a regular expression in Python to split a string into uppercase letters."
   ]
  },
  {
   "cell_type": "code",
   "execution_count": 54,
   "id": "717242eb",
   "metadata": {},
   "outputs": [
    {
     "name": "stdout",
     "output_type": "stream",
     "text": [
      "['Importance', 'Of', 'Regular', 'Expressions', 'In', 'Python']\n"
     ]
    }
   ],
   "source": [
    "text = 'ImportanceOfRegularExpressionsInPython'\n",
    "pattern = '[A-Z][^A-Z]*'\n",
    "result = re.findall(pattern,text)\n",
    "print(result)"
   ]
  },
  {
   "cell_type": "markdown",
   "id": "74b84f95",
   "metadata": {},
   "source": [
    "# Question 8- Create a function in python to insert spaces between words starting with numbers."
   ]
  },
  {
   "cell_type": "code",
   "execution_count": 43,
   "id": "9be3494c",
   "metadata": {},
   "outputs": [
    {
     "name": "stdout",
     "output_type": "stream",
     "text": [
      "RegularExpression 1IsAn 2ImportantTopic 3InPython\n"
     ]
    }
   ],
   "source": [
    "text = 'RegularExpression1IsAn2ImportantTopic3InPython'\n",
    "def insert_spaces(textstrings):\n",
    "    pattern = '(\\d+)([A-Za-z]+)'\n",
    "    result = re.sub(pattern,r' \\1\\2',text)\n",
    "    return result\n",
    "\n",
    "output = insert_spaces(text)\n",
    "print(output)"
   ]
  },
  {
   "cell_type": "markdown",
   "id": "3de67cc5",
   "metadata": {},
   "source": [
    "# Question 9- Create a function in python to insert spaces between words starting with capital letters or with numbers."
   ]
  },
  {
   "cell_type": "code",
   "execution_count": 45,
   "id": "5ae5dfc3",
   "metadata": {},
   "outputs": [
    {
     "name": "stdout",
     "output_type": "stream",
     "text": [
      "RegularExpression 1 IsAn 2 ImportantTopic 3 InPython\n"
     ]
    }
   ],
   "source": [
    "tex = 'RegularExpression1IsAn2ImportantTopic3InPython'\n",
    "def insert_spaces(textstrings):\n",
    "    pattern = '(\\d+)([A-Za-z]+)'\n",
    "    result=re.sub(pattern,r' \\1 \\2',text)\n",
    "    return result\n",
    "\n",
    "output = insert_spaces(text)\n",
    "print(output)"
   ]
  },
  {
   "cell_type": "markdown",
   "id": "38250f28",
   "metadata": {},
   "source": [
    "# Question 10- Use the github link below to read the data and create a dataframe. After creating the dataframe extract the first 6 letters of each country and store in the dataframe under a new column called first_five_letters."
   ]
  },
  {
   "cell_type": "code",
   "execution_count": 10,
   "id": "6eba779f",
   "metadata": {
    "scrolled": false
   },
   "outputs": [
    {
     "name": "stdout",
     "output_type": "stream",
     "text": [
      "0      Switze\n",
      "1      Icelan\n",
      "2      Denmar\n",
      "3      Norway\n",
      "4      Canada\n",
      "        ...  \n",
      "153    Rwanda\n",
      "154     Benin\n",
      "155     Syria\n",
      "156    Burund\n",
      "157      Togo\n",
      "Name: first_five_letters, Length: 158, dtype: object\n"
     ]
    }
   ],
   "source": [
    "url = 'https://raw.githubusercontent.com/dsrscientist/DSData/master/happiness_score_dataset.csv'\n",
    "df = pd.read_csv(url)\n",
    "def extract_first_six_letters(Country):\n",
    "    return re.match(r'^(.{6})',Country).group(1) if re.match(r'^(.{6})',Country) else Country\n",
    "\n",
    "df['first_five_letters'] = df['Country'].apply(extract_first_six_letters)\n",
    "print(df['first_five_letters'])"
   ]
  },
  {
   "cell_type": "markdown",
   "id": "8c6bc164",
   "metadata": {},
   "source": [
    "# Question 11- Write a Python program to match a string that contains only upper and lowercase letters, numbers, and underscores."
   ]
  },
  {
   "cell_type": "code",
   "execution_count": 11,
   "id": "931620a6",
   "metadata": {},
   "outputs": [
    {
     "name": "stdout",
     "output_type": "stream",
     "text": [
      "String matches pattern.\n"
     ]
    }
   ],
   "source": [
    "text = 'RegularExpression_1IsAn2_ImportantTopic3_InPython'\n",
    "def match_given_pattern (textstring):\n",
    "    pattern = re.compile(r'^[a-zA-Z0-9_]+$')\n",
    "    result = pattern.match(textstring)\n",
    "    if result:\n",
    "        print(\"String matches pattern.\")\n",
    "    else:\n",
    "        print(\"String does not match pattern.\")\n",
    "\n",
    "match_given_pattern(text)"
   ]
  },
  {
   "cell_type": "markdown",
   "id": "2a0b7be0",
   "metadata": {},
   "source": [
    "# Question 12- Write a Python program where a string will start with a specific number. "
   ]
  },
  {
   "cell_type": "code",
   "execution_count": 12,
   "id": "a9cacb79",
   "metadata": {},
   "outputs": [
    {
     "name": "stdout",
     "output_type": "stream",
     "text": [
      "String starts with a number.\n"
     ]
    }
   ],
   "source": [
    "text = '123hello world'\n",
    "def start_with_number (textstring):\n",
    "    pattern = re.compile(r'^[0-9]\\w.+$')\n",
    "    result = re.match(pattern,textstring)\n",
    "    return result\n",
    "\n",
    "output = start_with_number(text)\n",
    "if output :\n",
    "    print(\"String starts with a number.\")\n",
    "else:\n",
    "        print(\"String starts with something else.\")\n"
   ]
  },
  {
   "cell_type": "markdown",
   "id": "f2235cc7",
   "metadata": {},
   "source": [
    "# Question 13- Write a Python program to remove leading zeros from an IP address"
   ]
  },
  {
   "cell_type": "code",
   "execution_count": 95,
   "id": "a4dd7b46",
   "metadata": {},
   "outputs": [
    {
     "name": "stdout",
     "output_type": "stream",
     "text": [
      "123.1.12.456\n"
     ]
    }
   ],
   "source": [
    "ip = '123.01.012.456'\n",
    "pattern = '\\.[0]*'\n",
    "result = re.sub(pattern,'.',ip)\n",
    "print(result)"
   ]
  },
  {
   "cell_type": "markdown",
   "id": "6f90607f",
   "metadata": {},
   "source": [
    "# Question 14- Write a regular expression in python to match a date string in the form of Month name followed by day number and year stored in a text file."
   ]
  },
  {
   "cell_type": "code",
   "execution_count": 109,
   "id": "cb6d6e23",
   "metadata": {},
   "outputs": [
    {
     "name": "stdout",
     "output_type": "stream",
     "text": [
      "['August 15th 1947']\n"
     ]
    }
   ],
   "source": [
    "with open('sample text1.txt','r')as file:\n",
    "    text = file.read()\n",
    "def match_string(textstring):\n",
    "    pattern = '([A-Z][a-z]+ \\d{1,2}(?:st|nd|rd|th)? \\d{4})'\n",
    "    match = re.findall(pattern, textstring)\n",
    "    return match\n",
    "\n",
    "result  = match_string(text)\n",
    "print(result)"
   ]
  },
  {
   "cell_type": "markdown",
   "id": "a6a5ed2d",
   "metadata": {},
   "source": [
    "# Question 15- Write a Python program to search some literals strings in a string. "
   ]
  },
  {
   "cell_type": "code",
   "execution_count": 100,
   "id": "434402aa",
   "metadata": {},
   "outputs": [
    {
     "name": "stdout",
     "output_type": "stream",
     "text": [
      "Match Found\n",
      "Match Found\n",
      "No Match Found\n"
     ]
    }
   ],
   "source": [
    "text = 'The quick brown fox jumps over the lazy dog.'\n",
    "patterns = ['fox', 'dog', 'horse']\n",
    "for pattern in patterns:\n",
    "    match = re.search(pattern,text)\n",
    "    if match:\n",
    "        print('Match Found')\n",
    "    else:\n",
    "        print('No Match Found')"
   ]
  },
  {
   "cell_type": "markdown",
   "id": "35965f42",
   "metadata": {},
   "source": [
    "# Question 16- Write a Python program to search a literals string in a string and also find the location within the original string where the pattern occurs"
   ]
  },
  {
   "cell_type": "code",
   "execution_count": 108,
   "id": "9a25c9f4",
   "metadata": {},
   "outputs": [
    {
     "name": "stdout",
     "output_type": "stream",
     "text": [
      "Found \"fox\" in \"The quick brown fox jumps over the lazy dog.\" at 16 to 19 \n"
     ]
    }
   ],
   "source": [
    "text = 'The quick brown fox jumps over the lazy dog.'\n",
    "pattern = \"fox\"\n",
    "match = re.search(pattern,text)\n",
    "s = match.start()\n",
    "e = match.end()\n",
    "print('Found \"%s\" in \"%s\" at %d to %d ' % \\\n",
    "    (match.re.pattern, match.string, s, e))"
   ]
  },
  {
   "cell_type": "markdown",
   "id": "e7719a8a",
   "metadata": {},
   "source": [
    "# Question 17- Write a Python program to find the substrings within a string."
   ]
  },
  {
   "cell_type": "code",
   "execution_count": 103,
   "id": "494969c4",
   "metadata": {},
   "outputs": [
    {
     "name": "stdout",
     "output_type": "stream",
     "text": [
      "['exercises', 'exercises', 'exercises']\n"
     ]
    }
   ],
   "source": [
    "text = 'Python exercises, PHP exercises, C# exercises'\n",
    "def get_substrings (textstring):\n",
    "    pattern = 'exercises'\n",
    "    match= re.findall(pattern, textstring)\n",
    "    return match\n",
    "\n",
    "result  = get_substrings(text)\n",
    "print(result)"
   ]
  },
  {
   "cell_type": "markdown",
   "id": "dd629ccb",
   "metadata": {},
   "source": [
    "# Question 18- Write a Python program to find the occurrence and position of the substrings within a string."
   ]
  },
  {
   "cell_type": "code",
   "execution_count": 107,
   "id": "12cc4180",
   "metadata": {},
   "outputs": [
    {
     "name": "stdout",
     "output_type": "stream",
     "text": [
      "Found 'exercises' from position 7 to 16\n",
      "Found 'exercises' from position 22 to 31\n"
     ]
    }
   ],
   "source": [
    "text = 'Python exercises, PHP exercises,'\n",
    "def substring_occurences (textstring, substring):\n",
    "    pattern = re.compile(re.escape(substring))\n",
    "    match = pattern.finditer(textstring)\n",
    "    resultant_list = []\n",
    "    occurrences = [(mt.start(), mt.end(), mt.group()) for mt in match]\n",
    "    return occurrences\n",
    "sub_string = 'exercises'\n",
    "result = substring_occurences(text,sub_string)\n",
    "for start, end, match in result:\n",
    "    print(f\"Found '{match}' from position {start} to {end}\")"
   ]
  },
  {
   "cell_type": "markdown",
   "id": "35fbacbd",
   "metadata": {},
   "source": [
    "# Question 19- Write a Python program to convert a date of yyyy-mm-dd format to dd-mm-yyyy format."
   ]
  },
  {
   "cell_type": "code",
   "execution_count": 111,
   "id": "39792f39",
   "metadata": {},
   "outputs": [
    {
     "name": "stdout",
     "output_type": "stream",
     "text": [
      "24-05-2024\n"
     ]
    }
   ],
   "source": [
    "def change_date_format (datestring):\n",
    "    pattern = re.compile(r'(\\d{4})-(\\d{2})-(\\d{2})')\n",
    "    match = pattern.match(datestring)\n",
    "    year, month, day = match.groups()\n",
    "    new_date = f\"{day}-{month}-{year}\"\n",
    "    return new_date\n",
    "\n",
    "input = \"2024-05-24\"\n",
    "result = change_date_format(input)\n",
    "print(result)"
   ]
  },
  {
   "cell_type": "markdown",
   "id": "d7757664",
   "metadata": {},
   "source": [
    "# Question 20- Create a function in python to find all decimal numbers with a precision of 1 or 2 in a string. The use of the re.compile() method is mandatory."
   ]
  },
  {
   "cell_type": "code",
   "execution_count": 115,
   "id": "d8127e68",
   "metadata": {},
   "outputs": [
    {
     "name": "stdout",
     "output_type": "stream",
     "text": [
      "['01.12', '145.8', '3.01', '27.25', '0.25']\n"
     ]
    }
   ],
   "source": [
    "text = '01.12 0132.123 2.31875 145.8 3.01 27.25 0.25'\n",
    "def get_decimal (textstring):\n",
    "    pattern = re.compile(r'\\b\\d+\\.\\d{1,2}\\b')\n",
    "    match = re.findall(pattern, textstring)\n",
    "    return match\n",
    "\n",
    "result = get_decimal(input)\n",
    "print(result)"
   ]
  },
  {
   "cell_type": "markdown",
   "id": "95aa5515",
   "metadata": {},
   "source": [
    "# Question 21- Write a Python program to separate and print the numbers and their position of a given string."
   ]
  },
  {
   "cell_type": "code",
   "execution_count": 136,
   "id": "d7d9ca47",
   "metadata": {},
   "outputs": [
    {
     "name": "stdout",
     "output_type": "stream",
     "text": [
      "Number: 68, Position: 9\n",
      "Number: 76, Position: 50\n",
      "Number: 24, Position: 62\n"
     ]
    }
   ],
   "source": [
    "def print_numbers_and_its_positions(textstring):\n",
    "    pattern = re.compile(r'\\d+')\n",
    "    matches = pattern.finditer(textstring)\n",
    "    for match in matches:\n",
    "        number = match.group()\n",
    "        position = match.start()\n",
    "        print(f\"Number: {number}, Position: {position}\")\n",
    "\n",
    "text = \"There is 68% probability of having temperature of 76C in next 24 hours\"\n",
    "print_numbers_and_its_positions(text)"
   ]
  },
  {
   "cell_type": "markdown",
   "id": "8a9702fe",
   "metadata": {},
   "source": [
    "# Question 22- Write a regular expression in python program to extract maximum/largest numeric value from a string."
   ]
  },
  {
   "cell_type": "code",
   "execution_count": 137,
   "id": "3a880ded",
   "metadata": {},
   "outputs": [
    {
     "name": "stdout",
     "output_type": "stream",
     "text": [
      "950\n"
     ]
    }
   ],
   "source": [
    "text = 'My marks in each semester are: 947, 896, 926, 524, 734, 950, 642'\n",
    "matches = re.findall(r'\\d+',text)\n",
    "integer_matches = map(int,matches)\n",
    "maximum_value = max(integer_matches)\n",
    "print(maximum_value)"
   ]
  },
  {
   "cell_type": "markdown",
   "id": "3cbeb233",
   "metadata": {},
   "source": [
    "# Question 23- Create a function in python to insert spaces between words starting with capital letters."
   ]
  },
  {
   "cell_type": "code",
   "execution_count": 138,
   "id": "c751ff0e",
   "metadata": {},
   "outputs": [
    {
     "name": "stdout",
     "output_type": "stream",
     "text": [
      "Regular Expression Is An Important Topic In Python\n"
     ]
    }
   ],
   "source": [
    "def space_from_capitals (textstring):\n",
    "    pattern = re.compile(r'(\\w)([A-Z])')\n",
    "    match = re.sub(pattern, r'\\1 \\2', textstring)\n",
    "    return match\n",
    "\n",
    "text = \"RegularExpressionIsAnImportantTopicInPython\"\n",
    "result = space_from_capitals(text)\n",
    "print(result)"
   ]
  },
  {
   "cell_type": "markdown",
   "id": "d530baba",
   "metadata": {},
   "source": [
    "# Question 24- Python regex to find sequences of one upper case letter followed by lower case letters"
   ]
  },
  {
   "cell_type": "code",
   "execution_count": 139,
   "id": "ffe09e0a",
   "metadata": {
    "scrolled": true
   },
   "outputs": [
    {
     "name": "stdout",
     "output_type": "stream",
     "text": [
      "['Regular', 'Expression', 'Is', 'An', 'Important', 'Topic', 'In', 'Python']\n"
     ]
    }
   ],
   "source": [
    "pattern = r'[A-Z][a-z]+'\n",
    "text = \"Regular Expression Is An Important Topic In Python\"\n",
    "matches = re.findall(pattern, text)\n",
    "print(matches)"
   ]
  },
  {
   "cell_type": "markdown",
   "id": "56ccb16b",
   "metadata": {},
   "source": [
    "# Question 25- Write a Python program to remove continuous duplicate words from Sentence using Regular Expression."
   ]
  },
  {
   "cell_type": "code",
   "execution_count": 116,
   "id": "e7ea6c45",
   "metadata": {},
   "outputs": [
    {
     "name": "stdout",
     "output_type": "stream",
     "text": [
      "Hello hello world\n"
     ]
    }
   ],
   "source": [
    "text = \"Hello hello world world\"\n",
    "def remove_duplicate_from_string (textstring):\n",
    "    pattern = re.compile(r'(\\w+)(\\s+\\1\\b)+')\n",
    "    match = re.sub(pattern, r'\\1', textstring)\n",
    "    return match\n",
    "\n",
    "result = remove_duplicate_from_string(text)\n",
    "print(result)"
   ]
  },
  {
   "cell_type": "markdown",
   "id": "ab588647",
   "metadata": {},
   "source": [
    "# Question 26-  Write a python program using RegEx to accept string ending with alphanumeric character."
   ]
  },
  {
   "cell_type": "code",
   "execution_count": 121,
   "id": "93d8d4ad",
   "metadata": {},
   "outputs": [
    {
     "name": "stdout",
     "output_type": "stream",
     "text": [
      "Accept\n"
     ]
    }
   ],
   "source": [
    "text = 'Hello World123'\n",
    "def check_alphanumeric(textstring):\n",
    "    pattern = '[a-zA-z0-9]$'\n",
    "    result = re.search(pattern,textstring)\n",
    "    if(result):\n",
    "        print('Accept')\n",
    "    else:\n",
    "        print('Reject')\n",
    "\n",
    "check_alphanumeric(text)"
   ]
  },
  {
   "cell_type": "markdown",
   "id": "61e64489",
   "metadata": {},
   "source": [
    "# Question 27-Write a python program using RegEx to extract the hashtags."
   ]
  },
  {
   "cell_type": "code",
   "execution_count": 146,
   "id": "e532d72e",
   "metadata": {},
   "outputs": [
    {
     "name": "stdout",
     "output_type": "stream",
     "text": [
      "['#Doltiwal', '#xyzabc', '#Demonetization']\n"
     ]
    }
   ],
   "source": [
    "text = \"\"\"RT @kapil_kausik: #Doltiwal I mean #xyzabc is \"hurt\" by #Demonetization as the same has rendered USELESS <ed><U+00A0><U+00BD><ed><U+00B1><U+0089> \"acquired funds\" No wo\"\"\"\n",
    "def extract_hashtags(teststring):\n",
    "    pattern=r'#\\w+'\n",
    "    result = re.findall(pattern,text)\n",
    "    return result\n",
    "\n",
    "output = extract_hashtags(text)\n",
    "print(output)"
   ]
  },
  {
   "cell_type": "markdown",
   "id": "2c821e9c",
   "metadata": {},
   "source": [
    "# Question 28- Write a python program using RegEx to remove <U+..> like symbols"
   ]
  },
  {
   "cell_type": "code",
   "execution_count": 147,
   "id": "c4e4c36b",
   "metadata": {},
   "outputs": [
    {
     "name": "stdout",
     "output_type": "stream",
     "text": [
      "@Jags123456 Bharat band on 28??<ed><ed>Those who  are protesting #demonetization  are all different party leaders\n"
     ]
    }
   ],
   "source": [
    "text=\"@Jags123456 Bharat band on 28??<ed><U+00A0><U+00BD><ed><U+00B8><U+0082>Those who  are protesting #demonetization  are all different party leaders\"\n",
    "def remove_symbols(textstring):\n",
    "    pattern = '<U\\+\\w{4}>'\n",
    "    result = re.sub(pattern,'',text)\n",
    "    return result\n",
    "\n",
    "output = remove_symbols(text)\n",
    "print(output)"
   ]
  },
  {
   "cell_type": "markdown",
   "id": "12cf3c9d",
   "metadata": {},
   "source": [
    "# Question 29- Write a python program to extract dates from the text stored in the text file."
   ]
  },
  {
   "cell_type": "code",
   "execution_count": 118,
   "id": "9e13afb6",
   "metadata": {},
   "outputs": [
    {
     "name": "stdout",
     "output_type": "stream",
     "text": [
      "12-09-1992\n",
      "15-12-1999\n"
     ]
    }
   ],
   "source": [
    "with open('sampletext.txt','r')as file:\n",
    "    text = file.read()\n",
    "    pattern = '\\d{2}-\\d{2}-\\d{4}'\n",
    "    dates = re.findall(pattern,text)\n",
    "    for date in dates:\n",
    "        print(date)"
   ]
  },
  {
   "cell_type": "markdown",
   "id": "12a7dc28",
   "metadata": {},
   "source": [
    "# Question 30- Create a function in python to remove all words from a string of length between 2 and 4."
   ]
  },
  {
   "cell_type": "code",
   "execution_count": 148,
   "id": "b033efa2",
   "metadata": {},
   "outputs": [
    {
     "name": "stdout",
     "output_type": "stream",
     "text": [
      " following example creates  ArrayList  a capacity   elements. 4 elements   added   ArrayList   ArrayList  trimmed accordingly.\n"
     ]
    }
   ],
   "source": [
    "text = \"The following example creates an ArrayList with a capacity of 50 elements. 4 elements are then added to the ArrayList and the ArrayList is trimmed accordingly.\"\n",
    "pattern = re.compile(r'\\b\\w{2,4}\\b')\n",
    "result = re.sub(pattern,'',text)\n",
    "print(result)"
   ]
  }
 ],
 "metadata": {
  "kernelspec": {
   "display_name": "Python 3 (ipykernel)",
   "language": "python",
   "name": "python3"
  },
  "language_info": {
   "codemirror_mode": {
    "name": "ipython",
    "version": 3
   },
   "file_extension": ".py",
   "mimetype": "text/x-python",
   "name": "python",
   "nbconvert_exporter": "python",
   "pygments_lexer": "ipython3",
   "version": "3.11.5"
  }
 },
 "nbformat": 4,
 "nbformat_minor": 5
}
