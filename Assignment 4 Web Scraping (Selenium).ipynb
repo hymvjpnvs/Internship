{
 "cells": [
  {
   "cell_type": "markdown",
   "id": "600a2f26-c661-48d0-b2c8-e0ab873ee092",
   "metadata": {},
   "source": [
    "## Q1: In this question you have to scrape data using the filters available on the webpage You have to use the location and salary filter."
   ]
  },
  {
   "cell_type": "code",
   "execution_count": 1,
   "id": "b37e4d2b",
   "metadata": {},
   "outputs": [],
   "source": [
    "#import library"
   ]
  },
  {
   "cell_type": "code",
   "execution_count": 1,
   "id": "3c668051-4af8-4eb3-9c98-030adbe48eb6",
   "metadata": {},
   "outputs": [],
   "source": [
    "import selenium\n",
    "import pandas as pd\n",
    "from selenium import webdriver\n",
    "from selenium.webdriver.common.by import By\n",
    "import time\n",
    "from selenium.common.exceptions import NoSuchElementException"
   ]
  },
  {
   "cell_type": "code",
   "execution_count": 2,
   "id": "464ee719",
   "metadata": {},
   "outputs": [],
   "source": [
    "#set up the Chrome driver and open the webpage"
   ]
  },
  {
   "cell_type": "code",
   "execution_count": 137,
   "id": "3d07705a-b5e0-4a22-9800-1739afa7a514",
   "metadata": {},
   "outputs": [],
   "source": [
    "driver = webdriver.Chrome()\n",
    "driver.maximize_window()\n",
    "url = 'https://www.naukri.com/'\n",
    "driver.get(url)"
   ]
  },
  {
   "cell_type": "code",
   "execution_count": 3,
   "id": "7834531f",
   "metadata": {},
   "outputs": [],
   "source": [
    "#entering job title"
   ]
  },
  {
   "cell_type": "code",
   "execution_count": 138,
   "id": "82c96252-7f9c-4abf-9193-a7020161be79",
   "metadata": {},
   "outputs": [],
   "source": [
    "role = driver.find_element(By.CLASS_NAME,\"suggestor-input\")\n",
    "role.send_keys(\"Data Scientist\")"
   ]
  },
  {
   "cell_type": "code",
   "execution_count": 4,
   "id": "22d6c67f",
   "metadata": {},
   "outputs": [],
   "source": [
    "#applying location and salary filter"
   ]
  },
  {
   "cell_type": "code",
   "execution_count": 139,
   "id": "f1fc78de-aa1c-4799-bdae-95ed15cc16b0",
   "metadata": {},
   "outputs": [],
   "source": [
    "results = driver.find_element(By.XPATH,'//div[@class=\"qsbSubmit\"]')\n",
    "results.click()\n",
    "time.sleep(3)\n",
    "driver.find_element(By.XPATH,\"//span[@title='Delhi / NCR']\").click()\n",
    "time.sleep(3)\n",
    "driver.find_element(By.XPATH,\"//span[@title='3-6 Lakhs']\").click()"
   ]
  },
  {
   "cell_type": "code",
   "execution_count": 5,
   "id": "bc09d712",
   "metadata": {},
   "outputs": [],
   "source": [
    "#fetching job title"
   ]
  },
  {
   "cell_type": "code",
   "execution_count": 140,
   "id": "c4afcab7-0c76-4e4a-915b-5cf83b3b9c5b",
   "metadata": {},
   "outputs": [],
   "source": [
    "job_title=[]\n",
    "job_location=[]\n",
    "job_company=[]\n",
    "job_experience=[]"
   ]
  },
  {
   "cell_type": "code",
   "execution_count": 141,
   "id": "2a191ecc-69ce-40b9-9636-5a065838cb4a",
   "metadata": {},
   "outputs": [
    {
     "name": "stdout",
     "output_type": "stream",
     "text": [
      "['Data Scientist', 'Data Scientist', 'Data Scientist III', 'AWS Data Engineer', 'Data Scientist', 'Data Scientist', 'Data Scientist', 'Data Scientist', 'Python Data Scientist', 'Data Scientist']\n"
     ]
    }
   ],
   "source": [
    "time.sleep(3)\n",
    "jb_title = driver.find_elements(By.XPATH,\"//a[@class='title ']\")\n",
    "for i in jb_title[:10]:\n",
    "    title = i.text\n",
    "    job_title.append(title)\n",
    "print(job_title)"
   ]
  },
  {
   "cell_type": "code",
   "execution_count": 6,
   "id": "d90a7bfc",
   "metadata": {},
   "outputs": [],
   "source": [
    "#fetching job location"
   ]
  },
  {
   "cell_type": "code",
   "execution_count": 142,
   "id": "cac513c2-63b5-4348-8e8c-89ed66afdb57",
   "metadata": {},
   "outputs": [
    {
     "name": "stdout",
     "output_type": "stream",
     "text": [
      "['Delhi / NCR, Pune, Bengaluru', 'Gurugram', 'Kolkata, Mumbai, New Delhi, Hyderabad, Pune, Chennai, Bengaluru', 'Kolkata, Mumbai, New Delhi, Hyderabad, Pune, Chennai, Bengaluru', 'Kolkata, Mumbai, New Delhi, Hyderabad, Pune, Chennai, Bengaluru', 'Kolkata, Mumbai, New Delhi, Hyderabad, Pune, Chennai, Bengaluru', 'Kolkata, Mumbai, New Delhi, Hyderabad, Pune, Chennai, Bengaluru', 'New Delhi', 'Gurugram', 'Kolkata, Pune, Gurugram']\n"
     ]
    }
   ],
   "source": [
    "jb_location = driver.find_elements(By.XPATH,\"//span[@class='locWdth']\")\n",
    "for i in jb_location[:10]:\n",
    "    location = i.text\n",
    "    job_location.append(location)\n",
    "print(job_location)"
   ]
  },
  {
   "cell_type": "code",
   "execution_count": 7,
   "id": "878b7a0a",
   "metadata": {},
   "outputs": [],
   "source": [
    "#fetching company name"
   ]
  },
  {
   "cell_type": "code",
   "execution_count": 143,
   "id": "04f23eb1-4811-4c5e-96f9-fb91b9a7523d",
   "metadata": {},
   "outputs": [
    {
     "name": "stdout",
     "output_type": "stream",
     "text": [
      "['Wipro', 'Fortune 500 IT Services Company', 'Flutter', 'Large IT MNC', 'Essenware', 'Response Informatics', 'Big 4 Consulting Firm', 'Digital Glyde', 'Wizaltia Hr Solutions', 'Kashsam Data Solutions']\n"
     ]
    }
   ],
   "source": [
    "jb_company_name = driver.find_elements(By.XPATH,\"//a[@class=' comp-name mw-25'] | //span[@class=' comp-name mw-25'] | //a[@class=' comp-name ']\")\n",
    "for i in jb_company_name[:10]:\n",
    "    company_name = i.text\n",
    "    job_company.append(company_name)\n",
    "print(job_company)"
   ]
  },
  {
   "cell_type": "code",
   "execution_count": 8,
   "id": "da8d996d",
   "metadata": {},
   "outputs": [],
   "source": [
    "#fetching requried experience"
   ]
  },
  {
   "cell_type": "code",
   "execution_count": 144,
   "id": "accc6e4e-2f0e-4aea-832e-5a999f9dfd5d",
   "metadata": {},
   "outputs": [
    {
     "name": "stdout",
     "output_type": "stream",
     "text": [
      "['6-11 Yrs', '0-2 Yrs', '2-6 Yrs', '3-7 Yrs', '2-5 Yrs', '2-6 Yrs', '1-5 Yrs', '3-7 Yrs', '2-7 Yrs', '3-7 Yrs']\n"
     ]
    }
   ],
   "source": [
    "jb_experience = driver.find_elements(By.XPATH,\"//span[@class='ni-job-tuple-icon ni-job-tuple-icon-srp-experience exp']\")\n",
    "for i  in jb_experience[0:10]:\n",
    "    experience = i.text\n",
    "    job_experience.append(experience)\n",
    "print(job_experience)"
   ]
  },
  {
   "cell_type": "code",
   "execution_count": 9,
   "id": "2135f0e6",
   "metadata": {},
   "outputs": [],
   "source": [
    "#closing webdriver"
   ]
  },
  {
   "cell_type": "code",
   "execution_count": 145,
   "id": "29671b74-7fda-46ba-b477-ef1507d97fd6",
   "metadata": {},
   "outputs": [],
   "source": [
    "driver.close()"
   ]
  },
  {
   "cell_type": "code",
   "execution_count": 10,
   "id": "2bc7f917",
   "metadata": {},
   "outputs": [],
   "source": [
    "#creating DataFrame"
   ]
  },
  {
   "cell_type": "code",
   "execution_count": 146,
   "id": "cf6cb188-3c57-48c8-8f84-d44a6c2cf074",
   "metadata": {},
   "outputs": [
    {
     "data": {
      "text/html": [
       "<div>\n",
       "<style scoped>\n",
       "    .dataframe tbody tr th:only-of-type {\n",
       "        vertical-align: middle;\n",
       "    }\n",
       "\n",
       "    .dataframe tbody tr th {\n",
       "        vertical-align: top;\n",
       "    }\n",
       "\n",
       "    .dataframe thead th {\n",
       "        text-align: right;\n",
       "    }\n",
       "</style>\n",
       "<table border=\"1\" class=\"dataframe\">\n",
       "  <thead>\n",
       "    <tr style=\"text-align: right;\">\n",
       "      <th></th>\n",
       "      <th>job-title</th>\n",
       "      <th>job-location</th>\n",
       "      <th>company_name</th>\n",
       "      <th>experience_required</th>\n",
       "    </tr>\n",
       "  </thead>\n",
       "  <tbody>\n",
       "    <tr>\n",
       "      <th>0</th>\n",
       "      <td>Data Scientist</td>\n",
       "      <td>Delhi / NCR, Pune, Bengaluru</td>\n",
       "      <td>Wipro</td>\n",
       "      <td>6-11 Yrs</td>\n",
       "    </tr>\n",
       "    <tr>\n",
       "      <th>1</th>\n",
       "      <td>Data Scientist</td>\n",
       "      <td>Gurugram</td>\n",
       "      <td>Fortune 500 IT Services Company</td>\n",
       "      <td>0-2 Yrs</td>\n",
       "    </tr>\n",
       "    <tr>\n",
       "      <th>2</th>\n",
       "      <td>Data Scientist III</td>\n",
       "      <td>Kolkata, Mumbai, New Delhi, Hyderabad, Pune, C...</td>\n",
       "      <td>Flutter</td>\n",
       "      <td>2-6 Yrs</td>\n",
       "    </tr>\n",
       "    <tr>\n",
       "      <th>3</th>\n",
       "      <td>AWS Data Engineer</td>\n",
       "      <td>Kolkata, Mumbai, New Delhi, Hyderabad, Pune, C...</td>\n",
       "      <td>Large IT MNC</td>\n",
       "      <td>3-7 Yrs</td>\n",
       "    </tr>\n",
       "    <tr>\n",
       "      <th>4</th>\n",
       "      <td>Data Scientist</td>\n",
       "      <td>Kolkata, Mumbai, New Delhi, Hyderabad, Pune, C...</td>\n",
       "      <td>Essenware</td>\n",
       "      <td>2-5 Yrs</td>\n",
       "    </tr>\n",
       "    <tr>\n",
       "      <th>5</th>\n",
       "      <td>Data Scientist</td>\n",
       "      <td>Kolkata, Mumbai, New Delhi, Hyderabad, Pune, C...</td>\n",
       "      <td>Response Informatics</td>\n",
       "      <td>2-6 Yrs</td>\n",
       "    </tr>\n",
       "    <tr>\n",
       "      <th>6</th>\n",
       "      <td>Data Scientist</td>\n",
       "      <td>Kolkata, Mumbai, New Delhi, Hyderabad, Pune, C...</td>\n",
       "      <td>Big 4 Consulting Firm</td>\n",
       "      <td>1-5 Yrs</td>\n",
       "    </tr>\n",
       "    <tr>\n",
       "      <th>7</th>\n",
       "      <td>Data Scientist</td>\n",
       "      <td>New Delhi</td>\n",
       "      <td>Digital Glyde</td>\n",
       "      <td>3-7 Yrs</td>\n",
       "    </tr>\n",
       "    <tr>\n",
       "      <th>8</th>\n",
       "      <td>Python Data Scientist</td>\n",
       "      <td>Gurugram</td>\n",
       "      <td>Wizaltia Hr Solutions</td>\n",
       "      <td>2-7 Yrs</td>\n",
       "    </tr>\n",
       "    <tr>\n",
       "      <th>9</th>\n",
       "      <td>Data Scientist</td>\n",
       "      <td>Kolkata, Pune, Gurugram</td>\n",
       "      <td>Kashsam Data Solutions</td>\n",
       "      <td>3-7 Yrs</td>\n",
       "    </tr>\n",
       "  </tbody>\n",
       "</table>\n",
       "</div>"
      ],
      "text/plain": [
       "              job-title                                        job-location  \\\n",
       "0         Data Scientist                       Delhi / NCR, Pune, Bengaluru   \n",
       "1         Data Scientist                                           Gurugram   \n",
       "2     Data Scientist III  Kolkata, Mumbai, New Delhi, Hyderabad, Pune, C...   \n",
       "3      AWS Data Engineer  Kolkata, Mumbai, New Delhi, Hyderabad, Pune, C...   \n",
       "4         Data Scientist  Kolkata, Mumbai, New Delhi, Hyderabad, Pune, C...   \n",
       "5         Data Scientist  Kolkata, Mumbai, New Delhi, Hyderabad, Pune, C...   \n",
       "6         Data Scientist  Kolkata, Mumbai, New Delhi, Hyderabad, Pune, C...   \n",
       "7         Data Scientist                                          New Delhi   \n",
       "8  Python Data Scientist                                           Gurugram   \n",
       "9         Data Scientist                            Kolkata, Pune, Gurugram   \n",
       "\n",
       "                      company_name experience_required  \n",
       "0                            Wipro            6-11 Yrs  \n",
       "1  Fortune 500 IT Services Company             0-2 Yrs  \n",
       "2                          Flutter             2-6 Yrs  \n",
       "3                     Large IT MNC             3-7 Yrs  \n",
       "4                        Essenware             2-5 Yrs  \n",
       "5             Response Informatics             2-6 Yrs  \n",
       "6            Big 4 Consulting Firm             1-5 Yrs  \n",
       "7                    Digital Glyde             3-7 Yrs  \n",
       "8            Wizaltia Hr Solutions             2-7 Yrs  \n",
       "9           Kashsam Data Solutions             3-7 Yrs  "
      ]
     },
     "execution_count": 146,
     "metadata": {},
     "output_type": "execute_result"
    }
   ],
   "source": [
    "Job_Dataframe = pd.DataFrame({'job-title ':job_title,'job-location':job_location,'company_name':job_company,'experience_required':job_experience})\n",
    "Job_Dataframe"
   ]
  },
  {
   "cell_type": "markdown",
   "id": "53e3861a-4091-4cb8-8dfd-4ee2ffa8764f",
   "metadata": {},
   "source": [
    "## Q2: Write a python program to scrape data for “Data Scientist” Job position in “Bangalore” location. You have to scrape the job-title, job-location, company_name, experience_required. You have to scrape first 10 jobs data."
   ]
  },
  {
   "cell_type": "code",
   "execution_count": 11,
   "id": "c2154d33",
   "metadata": {},
   "outputs": [],
   "source": [
    "#set up the Chrome driver and open the webpage"
   ]
  },
  {
   "cell_type": "code",
   "execution_count": 17,
   "id": "7ab14bab-11b5-46c4-bd95-0fdf5f121d3c",
   "metadata": {},
   "outputs": [],
   "source": [
    "driver = webdriver.Chrome()\n",
    "driver.maximize_window()\n",
    "url = 'https://www.shine.com/'\n",
    "driver.get(url)"
   ]
  },
  {
   "cell_type": "code",
   "execution_count": 12,
   "id": "bd5ccbf1",
   "metadata": {},
   "outputs": [],
   "source": [
    "#entering job title"
   ]
  },
  {
   "cell_type": "code",
   "execution_count": 19,
   "id": "237c363f-9410-45fc-8f0c-eb350075286e",
   "metadata": {},
   "outputs": [],
   "source": [
    "time.sleep(3)\n",
    "role = driver.find_element(By.XPATH,\"//div[@id='select_container_id_q']//input\")\n",
    "role.send_keys(\"Data Scientist\")"
   ]
  },
  {
   "cell_type": "code",
   "execution_count": 13,
   "id": "0cb03b11",
   "metadata": {},
   "outputs": [],
   "source": [
    "#entering job location"
   ]
  },
  {
   "cell_type": "code",
   "execution_count": 20,
   "id": "fbe4109f-3947-4b09-bcc6-d1f54aa03b71",
   "metadata": {},
   "outputs": [],
   "source": [
    "joblocation = driver.find_element(By.XPATH,\"//input[@id='id_loc']\")\n",
    "joblocation.send_keys(\"Bangalore\")"
   ]
  },
  {
   "cell_type": "code",
   "execution_count": 14,
   "id": "dd6cda05",
   "metadata": {},
   "outputs": [],
   "source": [
    "#clicking on search button"
   ]
  },
  {
   "cell_type": "code",
   "execution_count": 21,
   "id": "84ac57de-f03f-4880-bc5f-98a429c350b6",
   "metadata": {},
   "outputs": [],
   "source": [
    "results = driver.find_element(By.XPATH,'//div[@class=\"searchForm_btnWrap_advance__VYBHN\"]//button')\n",
    "results.click()\n",
    "time.sleep(3)"
   ]
  },
  {
   "cell_type": "code",
   "execution_count": 15,
   "id": "b632df85",
   "metadata": {},
   "outputs": [],
   "source": [
    "#fetching job title"
   ]
  },
  {
   "cell_type": "code",
   "execution_count": 22,
   "id": "aabc217f-6c3a-4148-8e19-55b0f651fcdb",
   "metadata": {},
   "outputs": [],
   "source": [
    "job_title=[]\n",
    "job_location=[]\n",
    "job_company=[]\n",
    "job_experience=[]"
   ]
  },
  {
   "cell_type": "code",
   "execution_count": 23,
   "id": "a42a55a9-ebec-4f0d-ab98-8d0ce4d22c9b",
   "metadata": {},
   "outputs": [
    {
     "name": "stdout",
     "output_type": "stream",
     "text": [
      "['Data Scientist', 'Data Scientist', 'Data Scientist Recruitment', 'Data Scientist', 'Hiring For Data Scientist', 'Data Scientist', 'Data Scientist', 'Hr Data Analyst', 'Senior Associate Data Engineering Level 2', 'Data Analyst']\n"
     ]
    }
   ],
   "source": [
    "time.sleep(3)\n",
    "jb_title = driver.find_elements(By.XPATH,\"//strong[@class='jobCard_pReplaceH2__xWmHg']//p//a\")\n",
    "for i in jb_title[:10]:\n",
    "    title = i.text\n",
    "    job_title.append(title)\n",
    "print(job_title)"
   ]
  },
  {
   "cell_type": "code",
   "execution_count": 16,
   "id": "15017af0",
   "metadata": {},
   "outputs": [],
   "source": [
    "#fetching job location"
   ]
  },
  {
   "cell_type": "code",
   "execution_count": 24,
   "id": "96fc319a-8417-4e07-90a8-2e5fe7b286a8",
   "metadata": {},
   "outputs": [
    {
     "name": "stdout",
     "output_type": "stream",
     "text": [
      "['Bangalore', 'Bangalore', 'Bangalore', 'Bangalore', 'Bangalore', 'Bangalore', 'Bangalore', 'Bangalore', 'Bangalore', 'Bangalore']\n"
     ]
    }
   ],
   "source": [
    "jb_location = driver.find_elements(By.XPATH,\"//div[@class='jobCard_jobCard_lists_item__YxRkV jobCard_locationIcon__zrWt2']\")\n",
    "for i in jb_location[:10]:\n",
    "    location = i.text\n",
    "    location = location[0:9]\n",
    "    job_location.append(location)\n",
    "print(job_location)"
   ]
  },
  {
   "cell_type": "code",
   "execution_count": 17,
   "id": "43d60cdd",
   "metadata": {},
   "outputs": [],
   "source": [
    "#fetching company name"
   ]
  },
  {
   "cell_type": "code",
   "execution_count": 25,
   "id": "44de37b5-1cf6-4a3d-80d3-d41a1e0c28eb",
   "metadata": {},
   "outputs": [
    {
     "name": "stdout",
     "output_type": "stream",
     "text": [
      "['comosrich it & consulting services', 'meraki it solutions', 'kavya interprises', 'vaishnavi services', 'neelima staffing solution', 'dotcod innovation private limited', 'talent toppers llp', 'leverage business solutions private...', 'tlg india private limited', 'phoenix global re settlement servic...']\n"
     ]
    }
   ],
   "source": [
    "jb_company_name = driver.find_elements(By.XPATH,\"//div[@class='jobCard_jobCard_cName__mYnow']//span\")\n",
    "for i in jb_company_name[:10]:\n",
    "    company_name = i.text\n",
    "    job_company.append(company_name)\n",
    "print(job_company)"
   ]
  },
  {
   "cell_type": "code",
   "execution_count": 18,
   "id": "82ef60f6",
   "metadata": {},
   "outputs": [],
   "source": [
    "#fetching requied experience"
   ]
  },
  {
   "cell_type": "code",
   "execution_count": 26,
   "id": "2caba2ba-3444-4792-85f5-817d1cce257b",
   "metadata": {},
   "outputs": [
    {
     "name": "stdout",
     "output_type": "stream",
     "text": [
      "['3 to 8 Yrs', '3 to 6 Yrs', '0 to 4 Yrs', '18 to >25 Yrs', '0 to 4 Yrs', '2 to 6 Yrs', '0 to 3 Yrs', '4 to 8 Yrs', '5 to 9 Yrs', '3 to 8 Yrs']\n"
     ]
    }
   ],
   "source": [
    "jb_experience = driver.find_elements(By.XPATH,\"//div[@class=' jobCard_jobCard_lists_item__YxRkV jobCard_jobIcon__3FB1t']\")\n",
    "for i  in jb_experience[0:10]:\n",
    "    experience = i.text\n",
    "    job_experience.append(experience)\n",
    "print(job_experience)"
   ]
  },
  {
   "cell_type": "code",
   "execution_count": 19,
   "id": "6bf00f0b",
   "metadata": {},
   "outputs": [],
   "source": [
    "#closing webdriver"
   ]
  },
  {
   "cell_type": "code",
   "execution_count": 27,
   "id": "6055102e-109e-483f-8d24-5ffb13db0d29",
   "metadata": {},
   "outputs": [],
   "source": [
    "driver.close()"
   ]
  },
  {
   "cell_type": "code",
   "execution_count": 20,
   "id": "4ae3002b",
   "metadata": {},
   "outputs": [],
   "source": [
    "#creating DataFrame"
   ]
  },
  {
   "cell_type": "code",
   "execution_count": 28,
   "id": "67fd05f3-ea92-43ef-a7f0-aeedfa8ced6e",
   "metadata": {},
   "outputs": [
    {
     "data": {
      "text/html": [
       "<div>\n",
       "<style scoped>\n",
       "    .dataframe tbody tr th:only-of-type {\n",
       "        vertical-align: middle;\n",
       "    }\n",
       "\n",
       "    .dataframe tbody tr th {\n",
       "        vertical-align: top;\n",
       "    }\n",
       "\n",
       "    .dataframe thead th {\n",
       "        text-align: right;\n",
       "    }\n",
       "</style>\n",
       "<table border=\"1\" class=\"dataframe\">\n",
       "  <thead>\n",
       "    <tr style=\"text-align: right;\">\n",
       "      <th></th>\n",
       "      <th>job-title</th>\n",
       "      <th>job-location</th>\n",
       "      <th>company_name</th>\n",
       "      <th>experience_required</th>\n",
       "    </tr>\n",
       "  </thead>\n",
       "  <tbody>\n",
       "    <tr>\n",
       "      <th>0</th>\n",
       "      <td>Data Scientist</td>\n",
       "      <td>Bangalore</td>\n",
       "      <td>comosrich it &amp; consulting services</td>\n",
       "      <td>3 to 8 Yrs</td>\n",
       "    </tr>\n",
       "    <tr>\n",
       "      <th>1</th>\n",
       "      <td>Data Scientist</td>\n",
       "      <td>Bangalore</td>\n",
       "      <td>meraki it solutions</td>\n",
       "      <td>3 to 6 Yrs</td>\n",
       "    </tr>\n",
       "    <tr>\n",
       "      <th>2</th>\n",
       "      <td>Data Scientist Recruitment</td>\n",
       "      <td>Bangalore</td>\n",
       "      <td>kavya interprises</td>\n",
       "      <td>0 to 4 Yrs</td>\n",
       "    </tr>\n",
       "    <tr>\n",
       "      <th>3</th>\n",
       "      <td>Data Scientist</td>\n",
       "      <td>Bangalore</td>\n",
       "      <td>vaishnavi services</td>\n",
       "      <td>18 to &gt;25 Yrs</td>\n",
       "    </tr>\n",
       "    <tr>\n",
       "      <th>4</th>\n",
       "      <td>Hiring For Data Scientist</td>\n",
       "      <td>Bangalore</td>\n",
       "      <td>neelima staffing solution</td>\n",
       "      <td>0 to 4 Yrs</td>\n",
       "    </tr>\n",
       "    <tr>\n",
       "      <th>5</th>\n",
       "      <td>Data Scientist</td>\n",
       "      <td>Bangalore</td>\n",
       "      <td>dotcod innovation private limited</td>\n",
       "      <td>2 to 6 Yrs</td>\n",
       "    </tr>\n",
       "    <tr>\n",
       "      <th>6</th>\n",
       "      <td>Data Scientist</td>\n",
       "      <td>Bangalore</td>\n",
       "      <td>talent toppers llp</td>\n",
       "      <td>0 to 3 Yrs</td>\n",
       "    </tr>\n",
       "    <tr>\n",
       "      <th>7</th>\n",
       "      <td>Hr Data Analyst</td>\n",
       "      <td>Bangalore</td>\n",
       "      <td>leverage business solutions private...</td>\n",
       "      <td>4 to 8 Yrs</td>\n",
       "    </tr>\n",
       "    <tr>\n",
       "      <th>8</th>\n",
       "      <td>Senior Associate Data Engineering Level 2</td>\n",
       "      <td>Bangalore</td>\n",
       "      <td>tlg india private limited</td>\n",
       "      <td>5 to 9 Yrs</td>\n",
       "    </tr>\n",
       "    <tr>\n",
       "      <th>9</th>\n",
       "      <td>Data Analyst</td>\n",
       "      <td>Bangalore</td>\n",
       "      <td>phoenix global re settlement servic...</td>\n",
       "      <td>3 to 8 Yrs</td>\n",
       "    </tr>\n",
       "  </tbody>\n",
       "</table>\n",
       "</div>"
      ],
      "text/plain": [
       "                                  job-title  job-location  \\\n",
       "0                             Data Scientist    Bangalore   \n",
       "1                             Data Scientist    Bangalore   \n",
       "2                 Data Scientist Recruitment    Bangalore   \n",
       "3                             Data Scientist    Bangalore   \n",
       "4                  Hiring For Data Scientist    Bangalore   \n",
       "5                             Data Scientist    Bangalore   \n",
       "6                             Data Scientist    Bangalore   \n",
       "7                            Hr Data Analyst    Bangalore   \n",
       "8  Senior Associate Data Engineering Level 2    Bangalore   \n",
       "9                               Data Analyst    Bangalore   \n",
       "\n",
       "                             company_name experience_required  \n",
       "0      comosrich it & consulting services          3 to 8 Yrs  \n",
       "1                     meraki it solutions          3 to 6 Yrs  \n",
       "2                       kavya interprises          0 to 4 Yrs  \n",
       "3                      vaishnavi services       18 to >25 Yrs  \n",
       "4               neelima staffing solution          0 to 4 Yrs  \n",
       "5       dotcod innovation private limited          2 to 6 Yrs  \n",
       "6                      talent toppers llp          0 to 3 Yrs  \n",
       "7  leverage business solutions private...          4 to 8 Yrs  \n",
       "8               tlg india private limited          5 to 9 Yrs  \n",
       "9  phoenix global re settlement servic...          3 to 8 Yrs  "
      ]
     },
     "execution_count": 28,
     "metadata": {},
     "output_type": "execute_result"
    }
   ],
   "source": [
    "Job_Dataframe = pd.DataFrame({'job-title ':job_title,'job-location':job_location,'company_name':job_company,'experience_required':job_experience})\n",
    "Job_Dataframe"
   ]
  },
  {
   "cell_type": "markdown",
   "id": "d3fe81e8-ce71-446d-9c60-b91923a28522",
   "metadata": {},
   "source": [
    "## Q3: Scrape 100 reviews data from flipkart.com for iphone11 phone"
   ]
  },
  {
   "cell_type": "code",
   "execution_count": null,
   "id": "1ba718b4",
   "metadata": {},
   "outputs": [],
   "source": [
    "#set up the Chrome driver and open the webpage"
   ]
  },
  {
   "cell_type": "code",
   "execution_count": 23,
   "id": "5068c222-0fac-4a70-907a-8323075d092a",
   "metadata": {},
   "outputs": [],
   "source": [
    "driver = webdriver.Chrome()\n",
    "driver.maximize_window()\n",
    "url = 'https://www.flipkart.com/apple-iphone-11-black-64-gb/product-reviews/itm4e5041ba101fd?pid=MOBFWQ6BXGJCEYNY&lid=LSTMOBFWQ6BXGJCEYNYZXSHRJ&marketplace=FLIPKART'\n",
    "driver.get(url)"
   ]
  },
  {
   "cell_type": "code",
   "execution_count": 24,
   "id": "d6eaa34d-980e-43b1-abe9-24b37ae3548e",
   "metadata": {},
   "outputs": [],
   "source": [
    "Rating=[]\n",
    "Review_Summary=[]\n",
    "Full_review=[]"
   ]
  },
  {
   "cell_type": "code",
   "execution_count": 21,
   "id": "fd7659db",
   "metadata": {},
   "outputs": [],
   "source": [
    "#fetching required data"
   ]
  },
  {
   "cell_type": "code",
   "execution_count": 25,
   "id": "34bc1674-3040-4bca-88f1-dd04f9665d4a",
   "metadata": {},
   "outputs": [],
   "source": [
    "for page in range(1,11):\n",
    "    rating = driver.find_elements(By.XPATH,\"//div[@class='XQDdHH Ga3i8K']\")\n",
    "    review = driver.find_elements(By.XPATH,\"//p[@class='z9E0IG']\")\n",
    "    full_review = driver.find_elements(By.XPATH,\"//div[@class='ZmyHeo']\")\n",
    "\n",
    "    for rat in rating:\n",
    "        rt = rat.text\n",
    "        Rating.append(rt)\n",
    "\n",
    "    for rev in review:\n",
    "        rv = rev.text\n",
    "        Review_Summary.append(rv)\n",
    "\n",
    "    for frev in full_review:\n",
    "        fr = frev.text\n",
    "        Full_review.append(fr)\n",
    "    \n",
    "    time.sleep(3)\n",
    "\n",
    "    nxt_page = driver.find_elements(By.XPATH,'//a[@class=\"cn++Ap\"]')"
   ]
  },
  {
   "cell_type": "code",
   "execution_count": 22,
   "id": "522461ae",
   "metadata": {},
   "outputs": [],
   "source": [
    "#checking lenght of data"
   ]
  },
  {
   "cell_type": "code",
   "execution_count": 26,
   "id": "8076a1c0-0263-4ab9-a95f-78a6fdf354eb",
   "metadata": {},
   "outputs": [
    {
     "name": "stdout",
     "output_type": "stream",
     "text": [
      "100\n",
      "100\n",
      "100\n"
     ]
    }
   ],
   "source": [
    "print(len(Rating))\n",
    "print(len(Review_Summary))\n",
    "print(len(Full_review))"
   ]
  },
  {
   "cell_type": "code",
   "execution_count": 23,
   "id": "43aca342",
   "metadata": {},
   "outputs": [],
   "source": [
    "#closing webdriver"
   ]
  },
  {
   "cell_type": "code",
   "execution_count": 27,
   "id": "f8c7d761-f023-4dce-9c98-a35253f5c594",
   "metadata": {},
   "outputs": [],
   "source": [
    "driver.close()"
   ]
  },
  {
   "cell_type": "code",
   "execution_count": 24,
   "id": "021b300b",
   "metadata": {},
   "outputs": [],
   "source": [
    "#creating DataFrame"
   ]
  },
  {
   "cell_type": "code",
   "execution_count": 28,
   "id": "8896b5b0-6b17-4b16-8b65-1d9108da4cd8",
   "metadata": {},
   "outputs": [
    {
     "data": {
      "text/html": [
       "<div>\n",
       "<style scoped>\n",
       "    .dataframe tbody tr th:only-of-type {\n",
       "        vertical-align: middle;\n",
       "    }\n",
       "\n",
       "    .dataframe tbody tr th {\n",
       "        vertical-align: top;\n",
       "    }\n",
       "\n",
       "    .dataframe thead th {\n",
       "        text-align: right;\n",
       "    }\n",
       "</style>\n",
       "<table border=\"1\" class=\"dataframe\">\n",
       "  <thead>\n",
       "    <tr style=\"text-align: right;\">\n",
       "      <th></th>\n",
       "      <th>Rating</th>\n",
       "      <th>Review Summary</th>\n",
       "      <th>Full Review</th>\n",
       "    </tr>\n",
       "  </thead>\n",
       "  <tbody>\n",
       "    <tr>\n",
       "      <th>95</th>\n",
       "      <td>5</td>\n",
       "      <td>Wonderful</td>\n",
       "      <td>This is amazing at all</td>\n",
       "    </tr>\n",
       "    <tr>\n",
       "      <th>96</th>\n",
       "      <td>5</td>\n",
       "      <td>Just wow!</td>\n",
       "      <td>Perfect Product!!</td>\n",
       "    </tr>\n",
       "    <tr>\n",
       "      <th>97</th>\n",
       "      <td>5</td>\n",
       "      <td>Classy product</td>\n",
       "      <td>Camera is awesome\\nBest battery backup\\nA perf...</td>\n",
       "    </tr>\n",
       "    <tr>\n",
       "      <th>98</th>\n",
       "      <td>5</td>\n",
       "      <td>Perfect product!</td>\n",
       "      <td>Photos super</td>\n",
       "    </tr>\n",
       "    <tr>\n",
       "      <th>99</th>\n",
       "      <td>5</td>\n",
       "      <td>Fabulous!</td>\n",
       "      <td>It’s very good battery life and display and vi...</td>\n",
       "    </tr>\n",
       "  </tbody>\n",
       "</table>\n",
       "</div>"
      ],
      "text/plain": [
       "   Rating    Review Summary                                        Full Review\n",
       "95      5         Wonderful                             This is amazing at all\n",
       "96      5         Just wow!                                  Perfect Product!!\n",
       "97      5    Classy product  Camera is awesome\\nBest battery backup\\nA perf...\n",
       "98      5  Perfect product!                                       Photos super\n",
       "99      5         Fabulous!  It’s very good battery life and display and vi..."
      ]
     },
     "execution_count": 28,
     "metadata": {},
     "output_type": "execute_result"
    }
   ],
   "source": [
    "Iphone_Reviews= pd.DataFrame({})\n",
    "Iphone_Reviews['Rating'] = Rating[:100]\n",
    "Iphone_Reviews['Review Summary'] = Review_Summary[:100] \n",
    "Iphone_Reviews['Full Review'] = Full_review[:100]\n",
    "Iphone_Reviews.tail()"
   ]
  },
  {
   "cell_type": "markdown",
   "id": "5addd7a5-6454-4675-bb2a-705d8f9746b0",
   "metadata": {},
   "source": [
    "## Q4: Scrape data for first 100 sneakers you find when you visit flipkart.com and search for “sneakers” inthe search field"
   ]
  },
  {
   "cell_type": "code",
   "execution_count": 25,
   "id": "2221267f",
   "metadata": {},
   "outputs": [],
   "source": [
    "#set up the Chrome driver and open the webpage"
   ]
  },
  {
   "cell_type": "code",
   "execution_count": 29,
   "id": "c1f11fe6-9cfe-4256-a3b6-c19031a7d4d2",
   "metadata": {},
   "outputs": [],
   "source": [
    "driver = webdriver.Chrome()\n",
    "driver.maximize_window()\n",
    "url = 'https://www.flipkart.com/'\n",
    "driver.get(url)"
   ]
  },
  {
   "cell_type": "code",
   "execution_count": 26,
   "id": "a9efceea",
   "metadata": {},
   "outputs": [],
   "source": [
    "#searching for snearkers"
   ]
  },
  {
   "cell_type": "code",
   "execution_count": 30,
   "id": "b564e49e-2228-46c7-a9a8-cd58f734a1cd",
   "metadata": {},
   "outputs": [],
   "source": [
    "search = driver.find_element(By.XPATH,\"//div[@class='_2SmNnR']//input\")\n",
    "search.send_keys(\"sneakers\")"
   ]
  },
  {
   "cell_type": "code",
   "execution_count": 27,
   "id": "bf7562f2",
   "metadata": {},
   "outputs": [],
   "source": [
    "#click on search button"
   ]
  },
  {
   "cell_type": "code",
   "execution_count": 31,
   "id": "e549d200-074a-4c13-a878-c12d5a501c2d",
   "metadata": {},
   "outputs": [],
   "source": [
    "results = driver.find_element(By.XPATH,'//div[@class=\"_1sFryS _2alaMB\"]//button')\n",
    "results.click()\n",
    "time.sleep(3)"
   ]
  },
  {
   "cell_type": "code",
   "execution_count": 28,
   "id": "104515f6",
   "metadata": {},
   "outputs": [],
   "source": [
    "#fetching required data"
   ]
  },
  {
   "cell_type": "code",
   "execution_count": 35,
   "id": "f1386140-0a69-4316-b964-2f6ebedf0fbf",
   "metadata": {},
   "outputs": [],
   "source": [
    "sneakers_brand=[]\n",
    "sneakers_prodDesc=[]\n",
    "sneakers_price=[]"
   ]
  },
  {
   "cell_type": "code",
   "execution_count": 36,
   "id": "567eb51f-d37d-4aec-a849-1fbf280ece8d",
   "metadata": {},
   "outputs": [],
   "source": [
    "for page in range(0,3):\n",
    "    shoe_brand = driver.find_elements(By.XPATH,\"//div[@class='syl9yP']\")\n",
    "    product_desc = driver.find_elements(By.XPATH,\"//a[@class='WKTcLC BwBZTg'] | //a[@class='WKTcLC']\")\n",
    "    prices = driver.find_elements(By.XPATH,\"//div[@class='Nx9bqj']\")\n",
    "\n",
    "    for brd in shoe_brand:\n",
    "        brand = brd.text\n",
    "        sneakers_brand.append(brand)\n",
    "    \n",
    "    for desc in product_desc:\n",
    "        description = desc.text\n",
    "        sneakers_prodDesc.append(description)\n",
    "    \n",
    "    for pr in prices:\n",
    "        price = pr.text\n",
    "        sneakers_price.append(price)\n",
    "\n",
    "    time.sleep(3)\n",
    "    nxt_page = driver.find_elements(By.XPATH,'//a[@class=\"cn++Ap\"]')"
   ]
  },
  {
   "cell_type": "code",
   "execution_count": 29,
   "id": "37541c21",
   "metadata": {},
   "outputs": [],
   "source": [
    "#checking lenth of data"
   ]
  },
  {
   "cell_type": "code",
   "execution_count": 37,
   "id": "0d0641de-9432-4096-b7e8-be84c7dc6d8a",
   "metadata": {},
   "outputs": [
    {
     "name": "stdout",
     "output_type": "stream",
     "text": [
      "120\n",
      "120\n",
      "120\n"
     ]
    }
   ],
   "source": [
    "print(len(sneakers_brand))\n",
    "print(len(sneakers_prodDesc))\n",
    "print(len(sneakers_price))"
   ]
  },
  {
   "cell_type": "code",
   "execution_count": 30,
   "id": "b7c21f96",
   "metadata": {},
   "outputs": [],
   "source": [
    "#closing webdriver"
   ]
  },
  {
   "cell_type": "code",
   "execution_count": 38,
   "id": "68491ac7-c337-4e79-8613-be869a47a360",
   "metadata": {},
   "outputs": [],
   "source": [
    "driver.close()"
   ]
  },
  {
   "cell_type": "code",
   "execution_count": 31,
   "id": "25746ba8",
   "metadata": {},
   "outputs": [],
   "source": [
    "#creating DataFrame"
   ]
  },
  {
   "cell_type": "code",
   "execution_count": 39,
   "id": "874bcf5f-ca6c-4c61-b02a-f0596e518842",
   "metadata": {},
   "outputs": [
    {
     "data": {
      "text/html": [
       "<div>\n",
       "<style scoped>\n",
       "    .dataframe tbody tr th:only-of-type {\n",
       "        vertical-align: middle;\n",
       "    }\n",
       "\n",
       "    .dataframe tbody tr th {\n",
       "        vertical-align: top;\n",
       "    }\n",
       "\n",
       "    .dataframe thead th {\n",
       "        text-align: right;\n",
       "    }\n",
       "</style>\n",
       "<table border=\"1\" class=\"dataframe\">\n",
       "  <thead>\n",
       "    <tr style=\"text-align: right;\">\n",
       "      <th></th>\n",
       "      <th>Brand</th>\n",
       "      <th>Description</th>\n",
       "      <th>Price</th>\n",
       "    </tr>\n",
       "  </thead>\n",
       "  <tbody>\n",
       "    <tr>\n",
       "      <th>95</th>\n",
       "      <td>U.S. POLO ASSN.</td>\n",
       "      <td>Sneakers For Men</td>\n",
       "      <td>₹1,249</td>\n",
       "    </tr>\n",
       "    <tr>\n",
       "      <th>96</th>\n",
       "      <td>Sparx</td>\n",
       "      <td>SM 734 | Stylish, Comfortable | Sneakers For Men</td>\n",
       "      <td>₹721</td>\n",
       "    </tr>\n",
       "    <tr>\n",
       "      <th>97</th>\n",
       "      <td>BRUTON</td>\n",
       "      <td>Modern Trendy Sneakers Shoes Sneakers For Men</td>\n",
       "      <td>₹297</td>\n",
       "    </tr>\n",
       "    <tr>\n",
       "      <th>98</th>\n",
       "      <td>aadi</td>\n",
       "      <td>Aadi Men Black &amp; Green Casual Sneaker Sneakers...</td>\n",
       "      <td>₹469</td>\n",
       "    </tr>\n",
       "    <tr>\n",
       "      <th>99</th>\n",
       "      <td>bacca bucci</td>\n",
       "      <td>OG TerraForge Low-Top Series: Bold Street-Read...</td>\n",
       "      <td>₹1,699</td>\n",
       "    </tr>\n",
       "  </tbody>\n",
       "</table>\n",
       "</div>"
      ],
      "text/plain": [
       "              Brand                                        Description   Price\n",
       "95  U.S. POLO ASSN.                                   Sneakers For Men  ₹1,249\n",
       "96            Sparx   SM 734 | Stylish, Comfortable | Sneakers For Men    ₹721\n",
       "97           BRUTON      Modern Trendy Sneakers Shoes Sneakers For Men    ₹297\n",
       "98             aadi  Aadi Men Black & Green Casual Sneaker Sneakers...    ₹469\n",
       "99      bacca bucci  OG TerraForge Low-Top Series: Bold Street-Read...  ₹1,699"
      ]
     },
     "execution_count": 39,
     "metadata": {},
     "output_type": "execute_result"
    }
   ],
   "source": [
    "Sneakers = pd.DataFrame({})\n",
    "Sneakers['Brand'] = sneakers_brand[:100]\n",
    "Sneakers['Description'] = sneakers_prodDesc[:100] \n",
    "Sneakers['Price'] = sneakers_price[:100]\n",
    "Sneakers.tail()"
   ]
  },
  {
   "cell_type": "markdown",
   "id": "a49411e9-99c0-4d3d-a4e7-e9b62d5974a6",
   "metadata": {},
   "source": [
    "## Q5: Go to webpage https://www.amazon.in/ Enter “Laptop” in the search field and then click the search icon. Then set CPU Type filter to “Intel Core i7” as shown in the below image"
   ]
  },
  {
   "cell_type": "code",
   "execution_count": 32,
   "id": "a79c93c2",
   "metadata": {},
   "outputs": [],
   "source": [
    "#set up the Chrome driver and open the webpage"
   ]
  },
  {
   "cell_type": "code",
   "execution_count": 51,
   "id": "98fe29a8-33b3-4e98-b85f-f7890b1b4578",
   "metadata": {},
   "outputs": [],
   "source": [
    "driver = webdriver.Chrome()\n",
    "driver.maximize_window()\n",
    "url = 'https://www.amazon.in/'\n",
    "driver.get(url)"
   ]
  },
  {
   "cell_type": "code",
   "execution_count": 33,
   "id": "f36f0ed1",
   "metadata": {},
   "outputs": [],
   "source": [
    "#searching for laptop"
   ]
  },
  {
   "cell_type": "code",
   "execution_count": 52,
   "id": "4ad3bcfb-cdfd-44ba-988d-34e793ce19aa",
   "metadata": {},
   "outputs": [],
   "source": [
    "search = driver.find_element(By.XPATH,\"//input[@class='nav-input nav-progressive-attribute']\")\n",
    "search.send_keys(\"Laptop\")"
   ]
  },
  {
   "cell_type": "code",
   "execution_count": 34,
   "id": "8bb99d48",
   "metadata": {},
   "outputs": [],
   "source": [
    "#clicking on search icon"
   ]
  },
  {
   "cell_type": "code",
   "execution_count": 53,
   "id": "ec2c05e1-031a-4c48-9081-1cf4c6e96da2",
   "metadata": {},
   "outputs": [],
   "source": [
    "results = driver.find_element(By.XPATH,'//input[@id=\"nav-search-submit-button\"]')\n",
    "results.click()\n",
    "time.sleep(3)"
   ]
  },
  {
   "cell_type": "code",
   "execution_count": 35,
   "id": "04d393d6",
   "metadata": {},
   "outputs": [],
   "source": [
    "#applying filter"
   ]
  },
  {
   "cell_type": "code",
   "execution_count": 54,
   "id": "6fe9fbfe-21e5-49fd-90b6-17ddaa8a9a25",
   "metadata": {},
   "outputs": [],
   "source": [
    "driver.find_element(By.XPATH,\"//span[text()='Intel Core i7']\").click()\n",
    "time.sleep(3)"
   ]
  },
  {
   "cell_type": "code",
   "execution_count": 37,
   "id": "c2421f79",
   "metadata": {},
   "outputs": [],
   "source": [
    "#fetching title"
   ]
  },
  {
   "cell_type": "code",
   "execution_count": 139,
   "id": "30bc2434-9fb7-4d05-91d0-890184d680a6",
   "metadata": {},
   "outputs": [],
   "source": [
    "Laptop_titles = []\n",
    "Ratings = []\n",
    "Prices = []"
   ]
  },
  {
   "cell_type": "code",
   "execution_count": 140,
   "id": "5ece4a68-cfe2-4750-9f25-eaa8ab84cc96",
   "metadata": {},
   "outputs": [
    {
     "name": "stdout",
     "output_type": "stream",
     "text": [
      "['MSI Modern 14, Intel 12th Gen. i7-1255U, 36CM FHD 60Hz Laptop (16GB/512GB NVMe SSD/Windows 11 Home/Intel Iris Xe Graphics/Classic Black/1.4Kg), C12M-459IN', 'Lenovo IdeaPad 3 Intel Core i7 12th Gen 1255U - (16 GB/512 GB SSD/Windows 11 Home) 15IAU7 Laptop 82RK011GIN (39.62 cm, Arctic Grey, 1.63 Kg, with MS Office)', 'HP Laptop 15s, 12th Gen Intel Core i7-1255U, 15.6-inch (39.6 cm), FHD, 16GB DDR4, 512GB SSD, Intel Iris Xe graphics, Backlit KB, Thin & light (Win 11, MSO 2021, Silver, 1.69 kg), fq5190TU', 'ASUS TUF Gaming F15, 15.6\" (39.62cm) FHD 144Hz, 13th Gen Intel Core i7-13620H, Gaming Laptop (16GB DDR5/512GB SSD/NVIDIA GeForce RTX 4060 /Windows 11//Mecha Gray/2.20 Kg), FX507VV-LP287W', 'Lenovo IdeaPad Slim 5 Intel Core i7 13700H 16\" (40.6cm) 2.5K IPS 350Nits Laptop (16GB/1TB SSD/Win 11/Office 2021/Backlit KB/FHD 1080p +IR Camera/Alexa/3 month Game Pass/Cloud Grey/1.9Kg), 82XF0078IN', 'Samsung Galaxy Book3 Core i7 13th Gen 1355U - (16 GB/512 GB SSD/Windows 11 Home) Galaxy Book3 Thin and Light Laptop (15.6 Inch, Silver, 1.58 Kg, with MS Office)', 'HP Pavilion 15, 13th Gen Intel Core i7-1360P, 15.6-inch (39.6 cm), FHD, 16GB DDR4, 1TB SSD, Intel Iris Xᵉ graphics, FPR, Backlit KB, Audio by B&O (Win 11, MSO 2021, Silver, 1.74 kg), eg3036TU', 'HP OMEN Gaming Laptop, Intel Core i7-13700HX, 6GB RTX 3050 GPU, 16.1-inch (40.9 cm), 95W TGP, FHD, IPS, 165Hz, 300 nits, 16GB DDR5, 512GB SSD, RGB Backlit KB, B&O (MSO, Black, 2.32 kg), wf0179TX', 'Dell Inspiron 3530 Laptop, 13th Generation Intel Core i7-1355U Processor, 16GB, 512GB, 15.6\" (39.62cm) FHD 120Hz Display, Backlit KB, Win 11 + MSO\\'21, 15 Month McAfee, Silver, Thin & Light-1.62kg', 'Lenovo ThinkPad E14 Intel Core i7 13th Gen 14\" WUXGA IPS 300 Nits Thin and Light Laptop (16GB RAM/1TB SSD/Windows 11 Home/Backlit Keyboard/FPR/Black/1Y Onsite/1.41 kg), 21JKS1CT00']\n"
     ]
    }
   ],
   "source": [
    "lt_title = driver.find_elements(By.XPATH,\"//span[@class='a-size-medium a-color-base a-text-normal']\")\n",
    "for i in lt_title[:10]:\n",
    "    title = i.text\n",
    "    Laptop_titles.append(title)\n",
    "print(Laptop_titles)"
   ]
  },
  {
   "cell_type": "code",
   "execution_count": 38,
   "id": "ed81d715",
   "metadata": {},
   "outputs": [],
   "source": [
    "#fetching ratings"
   ]
  },
  {
   "cell_type": "code",
   "execution_count": 141,
   "id": "fb3b4ca4-ffd7-4c56-8511-9d2d17cff1df",
   "metadata": {},
   "outputs": [
    {
     "name": "stdout",
     "output_type": "stream",
     "text": [
      "['4.0 out of 5 stars', '4.1 out of 5 stars', '3.4 out of 5 stars', '5.0 out of 5 stars', '4.2 out of 5 stars', '4.0 out of 5 stars', '3.9 out of 5 stars', '4.0 out of 5 stars', '3.5 out of 5 stars', '5.0 out of 5 stars']\n"
     ]
    }
   ],
   "source": [
    "lt_rating = driver.find_elements(By.XPATH, \"//div[@data-asin]//span[contains(@class, 'a-icon-alt')]\")\n",
    "for i in lt_rating[:10]:\n",
    "    rating = driver.execute_script(\"return arguments[0].innerText;\", i).strip()\n",
    "    Ratings.append(rating)\n",
    "print(Ratings)"
   ]
  },
  {
   "cell_type": "code",
   "execution_count": 39,
   "id": "21bc488c",
   "metadata": {},
   "outputs": [],
   "source": [
    "#fetching price"
   ]
  },
  {
   "cell_type": "code",
   "execution_count": 142,
   "id": "017f60c3-7ec0-411e-8529-70f96b65a00a",
   "metadata": {},
   "outputs": [
    {
     "name": "stdout",
     "output_type": "stream",
     "text": [
      "['47,990', '62,020', '64,490', '1,09,990', '86,019', '81,990', '83,990', '98,990', '70,190', '89,990']\n"
     ]
    }
   ],
   "source": [
    "lt_price = driver.find_elements(By.XPATH,\"//div[contains(@class, 'sg-col-20-of-24 s-result-item s-asin sg-col-0-of-12 sg-col-16-of-20 sg-col s-widget-spacing-small sg-col-12-of-16')]//span[@class='a-price-whole']\")\n",
    "for i in lt_price[:10]:\n",
    "    prc = i.text\n",
    "    Prices.append(prc)\n",
    "print(Prices)"
   ]
  },
  {
   "cell_type": "code",
   "execution_count": 40,
   "id": "1859185f",
   "metadata": {},
   "outputs": [],
   "source": [
    "#closing webdriver"
   ]
  },
  {
   "cell_type": "code",
   "execution_count": 145,
   "id": "0a3a9df8-7720-4491-97c4-0a467e92f95a",
   "metadata": {},
   "outputs": [],
   "source": [
    "driver.close()"
   ]
  },
  {
   "cell_type": "code",
   "execution_count": 41,
   "id": "c5753ded",
   "metadata": {},
   "outputs": [],
   "source": [
    "#creating DataFrame"
   ]
  },
  {
   "cell_type": "code",
   "execution_count": 146,
   "id": "3cfb3925-6a68-437b-8bcc-9e152ea61e6d",
   "metadata": {},
   "outputs": [
    {
     "data": {
      "text/html": [
       "<div>\n",
       "<style scoped>\n",
       "    .dataframe tbody tr th:only-of-type {\n",
       "        vertical-align: middle;\n",
       "    }\n",
       "\n",
       "    .dataframe tbody tr th {\n",
       "        vertical-align: top;\n",
       "    }\n",
       "\n",
       "    .dataframe thead th {\n",
       "        text-align: right;\n",
       "    }\n",
       "</style>\n",
       "<table border=\"1\" class=\"dataframe\">\n",
       "  <thead>\n",
       "    <tr style=\"text-align: right;\">\n",
       "      <th></th>\n",
       "      <th>Title</th>\n",
       "      <th>Rating</th>\n",
       "      <th>Price</th>\n",
       "    </tr>\n",
       "  </thead>\n",
       "  <tbody>\n",
       "    <tr>\n",
       "      <th>0</th>\n",
       "      <td>MSI Modern 14, Intel 12th Gen. i7-1255U, 36CM ...</td>\n",
       "      <td>4.0 out of 5 stars</td>\n",
       "      <td>47,990</td>\n",
       "    </tr>\n",
       "    <tr>\n",
       "      <th>1</th>\n",
       "      <td>Lenovo IdeaPad 3 Intel Core i7 12th Gen 1255U ...</td>\n",
       "      <td>4.1 out of 5 stars</td>\n",
       "      <td>62,020</td>\n",
       "    </tr>\n",
       "    <tr>\n",
       "      <th>2</th>\n",
       "      <td>HP Laptop 15s, 12th Gen Intel Core i7-1255U, 1...</td>\n",
       "      <td>3.4 out of 5 stars</td>\n",
       "      <td>64,490</td>\n",
       "    </tr>\n",
       "    <tr>\n",
       "      <th>3</th>\n",
       "      <td>ASUS TUF Gaming F15, 15.6\" (39.62cm) FHD 144Hz...</td>\n",
       "      <td>5.0 out of 5 stars</td>\n",
       "      <td>1,09,990</td>\n",
       "    </tr>\n",
       "    <tr>\n",
       "      <th>4</th>\n",
       "      <td>Lenovo IdeaPad Slim 5 Intel Core i7 13700H 16\"...</td>\n",
       "      <td>4.2 out of 5 stars</td>\n",
       "      <td>86,019</td>\n",
       "    </tr>\n",
       "    <tr>\n",
       "      <th>5</th>\n",
       "      <td>Samsung Galaxy Book3 Core i7 13th Gen 1355U - ...</td>\n",
       "      <td>4.0 out of 5 stars</td>\n",
       "      <td>81,990</td>\n",
       "    </tr>\n",
       "    <tr>\n",
       "      <th>6</th>\n",
       "      <td>HP Pavilion 15, 13th Gen Intel Core i7-1360P, ...</td>\n",
       "      <td>3.9 out of 5 stars</td>\n",
       "      <td>83,990</td>\n",
       "    </tr>\n",
       "    <tr>\n",
       "      <th>7</th>\n",
       "      <td>HP OMEN Gaming Laptop, Intel Core i7-13700HX, ...</td>\n",
       "      <td>4.0 out of 5 stars</td>\n",
       "      <td>98,990</td>\n",
       "    </tr>\n",
       "    <tr>\n",
       "      <th>8</th>\n",
       "      <td>Dell Inspiron 3530 Laptop, 13th Generation Int...</td>\n",
       "      <td>3.5 out of 5 stars</td>\n",
       "      <td>70,190</td>\n",
       "    </tr>\n",
       "    <tr>\n",
       "      <th>9</th>\n",
       "      <td>Lenovo ThinkPad E14 Intel Core i7 13th Gen 14\"...</td>\n",
       "      <td>5.0 out of 5 stars</td>\n",
       "      <td>89,990</td>\n",
       "    </tr>\n",
       "  </tbody>\n",
       "</table>\n",
       "</div>"
      ],
      "text/plain": [
       "                                               Title              Rating  \\\n",
       "0  MSI Modern 14, Intel 12th Gen. i7-1255U, 36CM ...  4.0 out of 5 stars   \n",
       "1  Lenovo IdeaPad 3 Intel Core i7 12th Gen 1255U ...  4.1 out of 5 stars   \n",
       "2  HP Laptop 15s, 12th Gen Intel Core i7-1255U, 1...  3.4 out of 5 stars   \n",
       "3  ASUS TUF Gaming F15, 15.6\" (39.62cm) FHD 144Hz...  5.0 out of 5 stars   \n",
       "4  Lenovo IdeaPad Slim 5 Intel Core i7 13700H 16\"...  4.2 out of 5 stars   \n",
       "5  Samsung Galaxy Book3 Core i7 13th Gen 1355U - ...  4.0 out of 5 stars   \n",
       "6  HP Pavilion 15, 13th Gen Intel Core i7-1360P, ...  3.9 out of 5 stars   \n",
       "7  HP OMEN Gaming Laptop, Intel Core i7-13700HX, ...  4.0 out of 5 stars   \n",
       "8  Dell Inspiron 3530 Laptop, 13th Generation Int...  3.5 out of 5 stars   \n",
       "9  Lenovo ThinkPad E14 Intel Core i7 13th Gen 14\"...  5.0 out of 5 stars   \n",
       "\n",
       "      Price  \n",
       "0    47,990  \n",
       "1    62,020  \n",
       "2    64,490  \n",
       "3  1,09,990  \n",
       "4    86,019  \n",
       "5    81,990  \n",
       "6    83,990  \n",
       "7    98,990  \n",
       "8    70,190  \n",
       "9    89,990  "
      ]
     },
     "execution_count": 146,
     "metadata": {},
     "output_type": "execute_result"
    }
   ],
   "source": [
    "Laptop_Details = pd.DataFrame({})\n",
    "Laptop_Details['Title'] = Laptop_titles\n",
    "Laptop_Details['Rating'] = Ratings\n",
    "Laptop_Details['Price'] = Prices\n",
    "Laptop_Details"
   ]
  },
  {
   "cell_type": "markdown",
   "id": "f0705a35-5d4c-4f35-8946-4475f090ae5d",
   "metadata": {},
   "source": [
    "## Q6: Write a python program to scrape data for Top 1000 Quotes of All Time"
   ]
  },
  {
   "cell_type": "code",
   "execution_count": 42,
   "id": "555c8a55",
   "metadata": {},
   "outputs": [],
   "source": [
    "#set up the Chrome driver and open the webpage"
   ]
  },
  {
   "cell_type": "code",
   "execution_count": 2,
   "id": "e2e60475-e17b-4dd4-98f0-2ec77d2efdd1",
   "metadata": {},
   "outputs": [],
   "source": [
    "driver = webdriver.Chrome()\n",
    "driver.maximize_window()\n",
    "url = 'https://www.azquotes.com/'\n",
    "driver.get(url)"
   ]
  },
  {
   "cell_type": "code",
   "execution_count": 3,
   "id": "a982b7a1-8d57-4b61-898f-db291d5a1f7d",
   "metadata": {},
   "outputs": [],
   "source": [
    "from selenium.webdriver.support.ui import WebDriverWait\n",
    "from selenium.webdriver.support import expected_conditions as EC\n",
    "WebDriverWait(driver, 10).until(EC.element_to_be_clickable((By.XPATH, \"//a[text()='Top Quotes']\"))).click()"
   ]
  },
  {
   "cell_type": "code",
   "execution_count": 43,
   "id": "fe7cbcbb",
   "metadata": {},
   "outputs": [],
   "source": [
    "#fetching required data"
   ]
  },
  {
   "cell_type": "code",
   "execution_count": 4,
   "id": "d6f35ac8-b0c6-458c-a1e5-f75160087832",
   "metadata": {},
   "outputs": [],
   "source": [
    "Quotes = []\n",
    "Authors = []\n",
    "Types = []"
   ]
  },
  {
   "cell_type": "code",
   "execution_count": 5,
   "id": "76e6a146-124a-4490-bab1-3e7498deffe8",
   "metadata": {},
   "outputs": [],
   "source": [
    "for page in range(1, 11):\n",
    "    top_quotes = driver.find_elements(By.XPATH, \"//a[@class='title']\")\n",
    "    quote_authors = driver.find_elements(By.XPATH, \"//div[@class='author']//a\")\n",
    "    quote_tags_elements = driver.find_elements(By.XPATH, \"//div[@class='tags']\")\n",
    "\n",
    "    for tq, qa, qt in zip(top_quotes, quote_authors, quote_tags_elements):\n",
    "        quote = tq.text\n",
    "        author = qa.text\n",
    "        tags = [tag.text for tag in qt.find_elements(By.XPATH, \".//a\")]\n",
    "        Quotes.append(quote)\n",
    "        Authors.append(author)\n",
    "        Types.append(tags)\n",
    "        \n",
    "    if page < 10:\n",
    "        next_page_button = driver.find_element(By.XPATH, \"//a[@rel='nofollow' and contains(text(), 'Next')]\")\n",
    "        next_page_button.click()\n",
    "        time.sleep(3)      "
   ]
  },
  {
   "cell_type": "code",
   "execution_count": 44,
   "id": "af43a0a1",
   "metadata": {},
   "outputs": [],
   "source": [
    "#checking lenth of data"
   ]
  },
  {
   "cell_type": "code",
   "execution_count": 6,
   "id": "8af21fe0-4087-45b6-99e4-f1f026096543",
   "metadata": {},
   "outputs": [
    {
     "name": "stdout",
     "output_type": "stream",
     "text": [
      "1000\n",
      "1000\n",
      "1000\n"
     ]
    }
   ],
   "source": [
    "print(len(Quotes))\n",
    "print(len(Authors))\n",
    "print(len(Types))"
   ]
  },
  {
   "cell_type": "code",
   "execution_count": 45,
   "id": "89320673",
   "metadata": {},
   "outputs": [],
   "source": [
    "#closing webdriver"
   ]
  },
  {
   "cell_type": "code",
   "execution_count": 7,
   "id": "2c6d3a88-f34a-4296-a119-2d67506f955e",
   "metadata": {},
   "outputs": [],
   "source": [
    "driver.close()"
   ]
  },
  {
   "cell_type": "code",
   "execution_count": 46,
   "id": "06c7c8db",
   "metadata": {},
   "outputs": [],
   "source": [
    "#creating DataFrame"
   ]
  },
  {
   "cell_type": "code",
   "execution_count": 8,
   "id": "65021bf0-3683-4a50-a26f-0a1441b521b0",
   "metadata": {},
   "outputs": [
    {
     "data": {
      "text/html": [
       "<div>\n",
       "<style scoped>\n",
       "    .dataframe tbody tr th:only-of-type {\n",
       "        vertical-align: middle;\n",
       "    }\n",
       "\n",
       "    .dataframe tbody tr th {\n",
       "        vertical-align: top;\n",
       "    }\n",
       "\n",
       "    .dataframe thead th {\n",
       "        text-align: right;\n",
       "    }\n",
       "</style>\n",
       "<table border=\"1\" class=\"dataframe\">\n",
       "  <thead>\n",
       "    <tr style=\"text-align: right;\">\n",
       "      <th></th>\n",
       "      <th>Quote</th>\n",
       "      <th>Author</th>\n",
       "      <th>Type of Quote</th>\n",
       "    </tr>\n",
       "  </thead>\n",
       "  <tbody>\n",
       "    <tr>\n",
       "      <th>0</th>\n",
       "      <td>The essence of strategy is choosing what not t...</td>\n",
       "      <td>Michael Porter</td>\n",
       "      <td>[Essence, Deep Thought, Transcendentalism]</td>\n",
       "    </tr>\n",
       "    <tr>\n",
       "      <th>1</th>\n",
       "      <td>One cannot and must not try to erase the past ...</td>\n",
       "      <td>Golda Meir</td>\n",
       "      <td>[Inspiration, Past, Trying]</td>\n",
       "    </tr>\n",
       "    <tr>\n",
       "      <th>2</th>\n",
       "      <td>Patriotism means to stand by the country. It d...</td>\n",
       "      <td>Theodore Roosevelt</td>\n",
       "      <td>[Country, Peace, War]</td>\n",
       "    </tr>\n",
       "    <tr>\n",
       "      <th>3</th>\n",
       "      <td>Death is something inevitable. When a man has ...</td>\n",
       "      <td>Nelson Mandela</td>\n",
       "      <td>[Inspirational, Motivational, Death]</td>\n",
       "    </tr>\n",
       "    <tr>\n",
       "      <th>4</th>\n",
       "      <td>You have to love a nation that celebrates its ...</td>\n",
       "      <td>Erma Bombeck</td>\n",
       "      <td>[4th Of July, Food, Patriotic]</td>\n",
       "    </tr>\n",
       "  </tbody>\n",
       "</table>\n",
       "</div>"
      ],
      "text/plain": [
       "                                               Quote              Author  \\\n",
       "0  The essence of strategy is choosing what not t...      Michael Porter   \n",
       "1  One cannot and must not try to erase the past ...          Golda Meir   \n",
       "2  Patriotism means to stand by the country. It d...  Theodore Roosevelt   \n",
       "3  Death is something inevitable. When a man has ...      Nelson Mandela   \n",
       "4  You have to love a nation that celebrates its ...        Erma Bombeck   \n",
       "\n",
       "                                Type of Quote  \n",
       "0  [Essence, Deep Thought, Transcendentalism]  \n",
       "1                 [Inspiration, Past, Trying]  \n",
       "2                       [Country, Peace, War]  \n",
       "3        [Inspirational, Motivational, Death]  \n",
       "4              [4th Of July, Food, Patriotic]  "
      ]
     },
     "execution_count": 8,
     "metadata": {},
     "output_type": "execute_result"
    }
   ],
   "source": [
    "Quotes_Details = pd.DataFrame({})\n",
    "Quotes_Details['Quote'] = Quotes[:1000]\n",
    "Quotes_Details['Author'] = Authors[:1000] \n",
    "Quotes_Details['Type of Quote'] = Types[:1000]\n",
    "Quotes_Details.head()"
   ]
  },
  {
   "cell_type": "markdown",
   "id": "189ba0e0-3582-4d63-83ff-f62f005245df",
   "metadata": {},
   "source": [
    "## Q7. Write a python program to display list of respected former Prime Ministers of India (i.e. Name, Born-Dead, Term of office, Remarks)"
   ]
  },
  {
   "cell_type": "code",
   "execution_count": 47,
   "id": "d5f906b1",
   "metadata": {},
   "outputs": [],
   "source": [
    "#set up the Chrome driver and open the webpage"
   ]
  },
  {
   "cell_type": "code",
   "execution_count": 16,
   "id": "8617eb0a-c453-4e62-bac4-622d24d61a96",
   "metadata": {},
   "outputs": [],
   "source": [
    "driver = webdriver.Chrome()\n",
    "driver.maximize_window()\n",
    "url = 'https://www.jagranjosh.com/general-knowledge/list-of-all-prime-ministers-of-india-1473165149-1'\n",
    "driver.get(url)"
   ]
  },
  {
   "cell_type": "code",
   "execution_count": 48,
   "id": "a5118da7",
   "metadata": {},
   "outputs": [],
   "source": [
    "#fetching required data"
   ]
  },
  {
   "cell_type": "code",
   "execution_count": 86,
   "id": "0190385f-88d6-4d8d-8b75-5b3ad66bd3c6",
   "metadata": {},
   "outputs": [],
   "source": [
    "PM_Name = []\n",
    "Born_Dead = []\n",
    "Term_Of_Office = []\n",
    "Remarks = []"
   ]
  },
  {
   "cell_type": "code",
   "execution_count": 87,
   "id": "950640ca-0b2f-4477-a365-a9735427db3c",
   "metadata": {},
   "outputs": [],
   "source": [
    "from selenium.webdriver.support.ui import WebDriverWait\n",
    "from selenium.webdriver.support import expected_conditions as EC\n",
    "table = WebDriverWait(driver, 10).until(EC.presence_of_element_located((By.XPATH, \"//div[@class='TableData']\")))\n",
    "rows = table.find_elements(By.XPATH, \".//tr\")\n",
    "    \n",
    "for row in rows:\n",
    "    columns = row.find_elements(By.XPATH, \".//td\")\n",
    "    if len(columns) >= 4:\n",
    "        name = columns[1].text.strip()\n",
    "        PM_Name.append(name)\n",
    "        born_dead = columns[2].text.strip()\n",
    "        Born_Dead.append(born_dead)\n",
    "        term_of_office = columns[3].text.strip()\n",
    "        term_of_office = term_of_office.replace('\\n',' ')\n",
    "        Term_Of_Office.append(term_of_office)\n",
    "        remarks = columns[4].text.strip()\n",
    "        Remarks.append(remarks)"
   ]
  },
  {
   "cell_type": "code",
   "execution_count": 49,
   "id": "5fd71f0d",
   "metadata": {},
   "outputs": [],
   "source": [
    "#closing webdriver"
   ]
  },
  {
   "cell_type": "code",
   "execution_count": 88,
   "id": "a0234268-3465-4f33-89ea-a448d49a233d",
   "metadata": {},
   "outputs": [],
   "source": [
    "driver.close()"
   ]
  },
  {
   "cell_type": "code",
   "execution_count": 50,
   "id": "1c67435b",
   "metadata": {},
   "outputs": [],
   "source": [
    "#creating DataFrame"
   ]
  },
  {
   "cell_type": "code",
   "execution_count": 89,
   "id": "8da52fe7-972e-44fd-9c75-b4acb13e36e1",
   "metadata": {},
   "outputs": [],
   "source": [
    "PMInfo = pd.DataFrame({})\n",
    "PMInfo['Name'] = PM_Name\n",
    "PMInfo['Born-Dead'] = Born_Dead\n",
    "PMInfo['Term Of Office'] = Term_Of_Office\n",
    "PMInfo['Remarks'] = Remarks"
   ]
  },
  {
   "cell_type": "code",
   "execution_count": 90,
   "id": "4b445271-a5c8-4c8f-94eb-b9748aeea226",
   "metadata": {},
   "outputs": [
    {
     "data": {
      "text/html": [
       "<div>\n",
       "<style scoped>\n",
       "    .dataframe tbody tr th:only-of-type {\n",
       "        vertical-align: middle;\n",
       "    }\n",
       "\n",
       "    .dataframe tbody tr th {\n",
       "        vertical-align: top;\n",
       "    }\n",
       "\n",
       "    .dataframe thead th {\n",
       "        text-align: right;\n",
       "    }\n",
       "</style>\n",
       "<table border=\"1\" class=\"dataframe\">\n",
       "  <thead>\n",
       "    <tr style=\"text-align: right;\">\n",
       "      <th></th>\n",
       "      <th>Name</th>\n",
       "      <th>Born-Dead</th>\n",
       "      <th>Term Of Office</th>\n",
       "      <th>Remarks</th>\n",
       "    </tr>\n",
       "  </thead>\n",
       "  <tbody>\n",
       "    <tr>\n",
       "      <th>0</th>\n",
       "      <td>Jawahar Lal Nehru</td>\n",
       "      <td>(1889–1964)</td>\n",
       "      <td>15 August 1947 to 27 May 1964 16 years, 286 days</td>\n",
       "      <td>The first prime minister of India and the long...</td>\n",
       "    </tr>\n",
       "    <tr>\n",
       "      <th>1</th>\n",
       "      <td>Gulzarilal Nanda (Acting)</td>\n",
       "      <td>(1898-1998)</td>\n",
       "      <td>27 May 1964 to 9 June 1964, 13 days</td>\n",
       "      <td>First acting PM of India</td>\n",
       "    </tr>\n",
       "    <tr>\n",
       "      <th>2</th>\n",
       "      <td>Lal Bahadur Shastri</td>\n",
       "      <td>(1904–1966)</td>\n",
       "      <td>9 June 1964 to 11 January 1966 1 year, 216 days</td>\n",
       "      <td>He has given the slogan of 'Jai Jawan Jai Kisa...</td>\n",
       "    </tr>\n",
       "    <tr>\n",
       "      <th>3</th>\n",
       "      <td>Gulzari Lal Nanda  (Acting)</td>\n",
       "      <td>(1898-1998)</td>\n",
       "      <td>11 January 1966 to 24 January 1966 13 days</td>\n",
       "      <td>-</td>\n",
       "    </tr>\n",
       "    <tr>\n",
       "      <th>4</th>\n",
       "      <td>Indira Gandhi</td>\n",
       "      <td>(1917–1984)</td>\n",
       "      <td>24 January 1966 to 24 March 1977 11 years, 59 ...</td>\n",
       "      <td>First female Prime Minister of India</td>\n",
       "    </tr>\n",
       "    <tr>\n",
       "      <th>5</th>\n",
       "      <td>Morarji Desai</td>\n",
       "      <td>(1896–1995)</td>\n",
       "      <td>24 March 1977 to  28 July 1979  2 year, 126 days</td>\n",
       "      <td>Oldest to become PM (81 years old) and first t...</td>\n",
       "    </tr>\n",
       "    <tr>\n",
       "      <th>6</th>\n",
       "      <td>Charan Singh</td>\n",
       "      <td>(1902–1987)</td>\n",
       "      <td>28 July 1979 to 14 January 1980 170 days</td>\n",
       "      <td>Only PM who did not face the Parliament</td>\n",
       "    </tr>\n",
       "    <tr>\n",
       "      <th>7</th>\n",
       "      <td>Indira Gandhi</td>\n",
       "      <td>(1917–1984)</td>\n",
       "      <td>14 January 1980 to 31 October 1984 4 years, 29...</td>\n",
       "      <td>The first lady who served as PM for the second...</td>\n",
       "    </tr>\n",
       "    <tr>\n",
       "      <th>8</th>\n",
       "      <td>Rajiv Gandhi</td>\n",
       "      <td>(1944–1991)</td>\n",
       "      <td>31 October 1984 to 2 December 1989 5 years, 32...</td>\n",
       "      <td>Youngest to become PM (40 years old)</td>\n",
       "    </tr>\n",
       "    <tr>\n",
       "      <th>9</th>\n",
       "      <td>V. P. Singh</td>\n",
       "      <td>(1931–2008)</td>\n",
       "      <td>2 December 1989 to 10 November 1990 343 days</td>\n",
       "      <td>First PM to step down after a vote of no confi...</td>\n",
       "    </tr>\n",
       "    <tr>\n",
       "      <th>10</th>\n",
       "      <td>Chandra Shekhar</td>\n",
       "      <td>(1927–2007)</td>\n",
       "      <td>10 November 1990 to 21 June 1991 223 days</td>\n",
       "      <td>He belongs to  Samajwadi Janata Party</td>\n",
       "    </tr>\n",
       "    <tr>\n",
       "      <th>11</th>\n",
       "      <td>P. V. Narasimha Rao</td>\n",
       "      <td>(1921–2004)</td>\n",
       "      <td>21 June 1991 to 16 May 1996 4 years, 330 days</td>\n",
       "      <td>First PM from South India</td>\n",
       "    </tr>\n",
       "    <tr>\n",
       "      <th>12</th>\n",
       "      <td>Atal Bihari Vajpayee</td>\n",
       "      <td>(1924- 2018)</td>\n",
       "      <td>16 May 1996 to 1 June 1996 16 days</td>\n",
       "      <td>PM for shortest tenure</td>\n",
       "    </tr>\n",
       "    <tr>\n",
       "      <th>13</th>\n",
       "      <td>H. D. Deve Gowda</td>\n",
       "      <td>(born 1933)</td>\n",
       "      <td>1 June 1996 to 21 April 1997 324 days</td>\n",
       "      <td>He belongs to  Janata Dal</td>\n",
       "    </tr>\n",
       "    <tr>\n",
       "      <th>14</th>\n",
       "      <td>Inder Kumar Gujral</td>\n",
       "      <td>(1919–2012)</td>\n",
       "      <td>21 April 1997 to 19 March 1998  332 days</td>\n",
       "      <td>------</td>\n",
       "    </tr>\n",
       "    <tr>\n",
       "      <th>15</th>\n",
       "      <td>Atal Bihari Vajpayee</td>\n",
       "      <td>(1924-2018)</td>\n",
       "      <td>19 March 1998 to 22 May 2004  6 years, 64 days</td>\n",
       "      <td>The first non-congress PM who completed a full...</td>\n",
       "    </tr>\n",
       "    <tr>\n",
       "      <th>16</th>\n",
       "      <td>Manmohan Singh</td>\n",
       "      <td>(born 1932)</td>\n",
       "      <td>22 May 2004 to 26 May 2014    10 years, 4 days</td>\n",
       "      <td>First Sikh PM</td>\n",
       "    </tr>\n",
       "    <tr>\n",
       "      <th>17</th>\n",
       "      <td>Narendra Modi</td>\n",
       "      <td>(born 1950)</td>\n",
       "      <td>26 May 2014 - 2019</td>\n",
       "      <td>4th Prime Minister of India who served two con...</td>\n",
       "    </tr>\n",
       "    <tr>\n",
       "      <th>18</th>\n",
       "      <td>Narendra Modi</td>\n",
       "      <td>(born 1950)</td>\n",
       "      <td>30 May 2019- Incumbent</td>\n",
       "      <td>First non-congress PM with two consecutive ten...</td>\n",
       "    </tr>\n",
       "  </tbody>\n",
       "</table>\n",
       "</div>"
      ],
      "text/plain": [
       "                           Name     Born-Dead  \\\n",
       "0             Jawahar Lal Nehru   (1889–1964)   \n",
       "1     Gulzarilal Nanda (Acting)   (1898-1998)   \n",
       "2           Lal Bahadur Shastri   (1904–1966)   \n",
       "3   Gulzari Lal Nanda  (Acting)   (1898-1998)   \n",
       "4                 Indira Gandhi   (1917–1984)   \n",
       "5                 Morarji Desai   (1896–1995)   \n",
       "6                  Charan Singh   (1902–1987)   \n",
       "7                 Indira Gandhi   (1917–1984)   \n",
       "8                  Rajiv Gandhi   (1944–1991)   \n",
       "9                   V. P. Singh   (1931–2008)   \n",
       "10              Chandra Shekhar   (1927–2007)   \n",
       "11          P. V. Narasimha Rao   (1921–2004)   \n",
       "12         Atal Bihari Vajpayee  (1924- 2018)   \n",
       "13             H. D. Deve Gowda   (born 1933)   \n",
       "14           Inder Kumar Gujral   (1919–2012)   \n",
       "15         Atal Bihari Vajpayee   (1924-2018)   \n",
       "16               Manmohan Singh   (born 1932)   \n",
       "17                Narendra Modi   (born 1950)   \n",
       "18                Narendra Modi   (born 1950)   \n",
       "\n",
       "                                       Term Of Office  \\\n",
       "0    15 August 1947 to 27 May 1964 16 years, 286 days   \n",
       "1                 27 May 1964 to 9 June 1964, 13 days   \n",
       "2     9 June 1964 to 11 January 1966 1 year, 216 days   \n",
       "3          11 January 1966 to 24 January 1966 13 days   \n",
       "4   24 January 1966 to 24 March 1977 11 years, 59 ...   \n",
       "5    24 March 1977 to  28 July 1979  2 year, 126 days   \n",
       "6            28 July 1979 to 14 January 1980 170 days   \n",
       "7   14 January 1980 to 31 October 1984 4 years, 29...   \n",
       "8   31 October 1984 to 2 December 1989 5 years, 32...   \n",
       "9        2 December 1989 to 10 November 1990 343 days   \n",
       "10          10 November 1990 to 21 June 1991 223 days   \n",
       "11      21 June 1991 to 16 May 1996 4 years, 330 days   \n",
       "12                 16 May 1996 to 1 June 1996 16 days   \n",
       "13              1 June 1996 to 21 April 1997 324 days   \n",
       "14           21 April 1997 to 19 March 1998  332 days   \n",
       "15     19 March 1998 to 22 May 2004  6 years, 64 days   \n",
       "16     22 May 2004 to 26 May 2014    10 years, 4 days   \n",
       "17                                 26 May 2014 - 2019   \n",
       "18                             30 May 2019- Incumbent   \n",
       "\n",
       "                                              Remarks  \n",
       "0   The first prime minister of India and the long...  \n",
       "1                            First acting PM of India  \n",
       "2   He has given the slogan of 'Jai Jawan Jai Kisa...  \n",
       "3                                                   -  \n",
       "4                First female Prime Minister of India  \n",
       "5   Oldest to become PM (81 years old) and first t...  \n",
       "6             Only PM who did not face the Parliament  \n",
       "7   The first lady who served as PM for the second...  \n",
       "8                Youngest to become PM (40 years old)  \n",
       "9   First PM to step down after a vote of no confi...  \n",
       "10              He belongs to  Samajwadi Janata Party  \n",
       "11                          First PM from South India  \n",
       "12                             PM for shortest tenure  \n",
       "13                          He belongs to  Janata Dal  \n",
       "14                                             ------  \n",
       "15  The first non-congress PM who completed a full...  \n",
       "16                                      First Sikh PM  \n",
       "17  4th Prime Minister of India who served two con...  \n",
       "18  First non-congress PM with two consecutive ten...  "
      ]
     },
     "execution_count": 90,
     "metadata": {},
     "output_type": "execute_result"
    }
   ],
   "source": [
    "PMInfo"
   ]
  },
  {
   "cell_type": "markdown",
   "id": "f139297d-c874-4469-b0fc-517b187e4f8f",
   "metadata": {},
   "source": [
    "## Q8: Write a python program to display list of 50 Most expensive cars in the world (i.e. Car name and Price) from https://www.motor1.com"
   ]
  },
  {
   "cell_type": "code",
   "execution_count": 51,
   "id": "5d8111d3",
   "metadata": {},
   "outputs": [],
   "source": [
    "#set up the Chrome driver and open the webpage"
   ]
  },
  {
   "cell_type": "code",
   "execution_count": 94,
   "id": "4ddd6b5c-e9d0-43ec-afb1-091a5e5bc7b0",
   "metadata": {},
   "outputs": [],
   "source": [
    "driver = webdriver.Chrome()\n",
    "driver.maximize_window()\n",
    "url = 'https://www.motor1.com/'\n",
    "driver.get(url)"
   ]
  },
  {
   "cell_type": "code",
   "execution_count": 52,
   "id": "5378d499",
   "metadata": {},
   "outputs": [],
   "source": [
    "#search for most expensive cars"
   ]
  },
  {
   "cell_type": "code",
   "execution_count": 95,
   "id": "15ab8209-96b0-4e01-81c4-da4075383ef4",
   "metadata": {},
   "outputs": [],
   "source": [
    "search = driver.find_element(By.XPATH,\"//input[@class='m1-search-panel-input m1-search-form-text']\")\n",
    "search.send_keys(\"50 most expensive cars\")"
   ]
  },
  {
   "cell_type": "code",
   "execution_count": 53,
   "id": "56093f13",
   "metadata": {},
   "outputs": [],
   "source": [
    "#click on search icon"
   ]
  },
  {
   "cell_type": "code",
   "execution_count": 96,
   "id": "1a701e45-89ad-48a9-a746-d9a93fede598",
   "metadata": {},
   "outputs": [],
   "source": [
    "results = driver.find_element(By.XPATH,'//button[@class=\"m1-search-panel-button m1-search-form-button-animate icon-search-svg\"]')\n",
    "results.click()\n",
    "time.sleep(3)"
   ]
  },
  {
   "cell_type": "code",
   "execution_count": 54,
   "id": "3e643b51",
   "metadata": {},
   "outputs": [],
   "source": [
    "#clock on 50 most expensive cars in the world"
   ]
  },
  {
   "cell_type": "code",
   "execution_count": 98,
   "id": "7a82281b-1dc6-452e-866c-c1d852b3f69f",
   "metadata": {},
   "outputs": [],
   "source": [
    "cars_data = driver.find_element(By.XPATH,'//div[@class=\"text-box\"]//h3/a')\n",
    "cars_data.click()\n",
    "time.sleep(3)"
   ]
  },
  {
   "cell_type": "code",
   "execution_count": 55,
   "id": "dc8db253",
   "metadata": {},
   "outputs": [],
   "source": [
    "#fetching car name"
   ]
  },
  {
   "cell_type": "code",
   "execution_count": 129,
   "id": "98b1d1ef-5b54-4f44-8fd8-aed865bb87cc",
   "metadata": {},
   "outputs": [],
   "source": [
    "Cars =[]\n",
    "Prices= []"
   ]
  },
  {
   "cell_type": "code",
   "execution_count": 130,
   "id": "8c8695a6-a3dd-4aec-bd20-4e56bfd9efaf",
   "metadata": {},
   "outputs": [
    {
     "name": "stdout",
     "output_type": "stream",
     "text": [
      "['McLaren Senna GTR', 'Czinger 21C', 'Ferrari Monza', 'Gordon Murray T.33', 'Koenigsegg Gemera', 'Hennessey Venom F5', 'Bentley Bacalar', 'Hispano Suiza Carmen Boulogne', 'Bentley Mulliner Batur', 'SSC Tuatara', 'Lotus Evija', 'Aston Martin Vulcan', 'Delage D12', 'Ferrari Daytona SP3', 'McLaren Speedtail', 'Rimac Nevera', 'Pagani Utopia', 'Pininfarina Battista', 'Gordon Murray T.50', 'Lamborghini Countach', 'Hennessey Venom F5 Revolution', 'Mercedes-AMG Project One', 'Zenvo Aurora', 'Aston Martin Victor', 'Hennessey Venom F5 Roadster', 'Koenigsegg Jesko', 'Aspark Owl', 'Aston Martin Valkyrie', 'W Motors Lykan Hypersport', 'McLaren Solus', 'Pagani Huayra Evo R', 'Lamborghini Sian', 'Koenigsegg CC850', 'Bugatti Chiron Super Sport 300+', 'Gordon Murray Automotive T.50s Niki Lauda', 'Pagani Huayra Roadster BC', 'Lamborghini Veneno', 'Bugatti Bolide', 'Pininfarina B95 Speedster', 'Bugatti Mistral', 'Bugatti Divo', 'Pagani Huayra Imola', 'Pagani Codalunga', 'Mercedes-Maybach Exelero', 'Bugatti Centodieci', 'Bugatti Chiron Profilée', 'Rolls-Royce Sweptail', 'Bugatti La Voiture Noire', 'Rolls-Royce Boat Tail', 'Rolls-Royce La Rose Noire Droptail']\n"
     ]
    }
   ],
   "source": [
    "car_name = driver.find_elements(By.XPATH, \"//h3[@class='subheader']\")\n",
    "for i in car_name:\n",
    "    name = i.text\n",
    "    Cars.append(name)\n",
    "Cars.pop()\n",
    "print(Cars)"
   ]
  },
  {
   "cell_type": "code",
   "execution_count": 56,
   "id": "f3e936c4",
   "metadata": {},
   "outputs": [],
   "source": [
    "#fetching car price"
   ]
  },
  {
   "cell_type": "code",
   "execution_count": 131,
   "id": "00999bb6-b4a6-4528-9195-e2b2c78a57b4",
   "metadata": {},
   "outputs": [
    {
     "name": "stdout",
     "output_type": "stream",
     "text": [
      "['$1.7 Million', '$1.7 Million', '$1.7 Million', '$1.7 Million', '$1.7 Million', '$1.8 Million', '$1.9 Million', '$1.9 Million', '$2.0 Million', '$2.0 Million', '$2.1 Million', '$2.3 Million', '$2.3 Million', '$2.3 Million', '$2.3 Million', '$2.4 Million', '$2.5 Million', '$2.5 Million', '$2.6 Million', '$2.6 Million', '$2.7 Million', '$2.7 Million', '$2.8 Million', '$3.0 Million', '$3.0 Million', '$3.0 Million', '$3.1 Million', '$3.2 Million', '$3.4 Million', '$3.5 Million', '$3.5 Million (est.)', '$3.6 million', '$3.7 Million', '$3.9 Million', '$3.9 Million', '$4.0 Million', '$4.5 Million', '$4.7 Million', '$4.8 Million', '$5.0 Million', '$5.8 Million', '$6.0 Million', '$7.4 Million', '$8.0 Million', '$9.0 Million', '$10.8 Million', '$12.8 Million', '$13.4 Million', '$28.0 Million (est.)', '$30 Million (est.)']\n"
     ]
    }
   ],
   "source": [
    "car_price = driver.find_elements(By.XPATH, \"//strong\")\n",
    "for i in car_price:\n",
    "    price = i.text\n",
    "    price = price.replace('Price: ', '')\n",
    "    Prices.append(price)\n",
    "print(Prices)"
   ]
  },
  {
   "cell_type": "code",
   "execution_count": 57,
   "id": "c6744cb2",
   "metadata": {},
   "outputs": [],
   "source": [
    "#closing webdriver"
   ]
  },
  {
   "cell_type": "code",
   "execution_count": 134,
   "id": "67ecf67a-910b-4fe1-8cfb-7c667cf80c8c",
   "metadata": {},
   "outputs": [],
   "source": [
    "driver.close()"
   ]
  },
  {
   "cell_type": "code",
   "execution_count": 58,
   "id": "4b9691a8",
   "metadata": {},
   "outputs": [],
   "source": [
    "#creating DataFrame"
   ]
  },
  {
   "cell_type": "code",
   "execution_count": 135,
   "id": "34bbf973-149d-4749-9af2-71fa131c717a",
   "metadata": {},
   "outputs": [],
   "source": [
    "Expensive_Cars = pd.DataFrame({})\n",
    "Expensive_Cars['Car Name'] = Cars\n",
    "Expensive_Cars['Price'] = Prices"
   ]
  },
  {
   "cell_type": "code",
   "execution_count": 136,
   "id": "37e754a8-84ab-4c47-bcd7-c6f1c8387996",
   "metadata": {},
   "outputs": [
    {
     "data": {
      "text/html": [
       "<div>\n",
       "<style scoped>\n",
       "    .dataframe tbody tr th:only-of-type {\n",
       "        vertical-align: middle;\n",
       "    }\n",
       "\n",
       "    .dataframe tbody tr th {\n",
       "        vertical-align: top;\n",
       "    }\n",
       "\n",
       "    .dataframe thead th {\n",
       "        text-align: right;\n",
       "    }\n",
       "</style>\n",
       "<table border=\"1\" class=\"dataframe\">\n",
       "  <thead>\n",
       "    <tr style=\"text-align: right;\">\n",
       "      <th></th>\n",
       "      <th>Car Name</th>\n",
       "      <th>Price</th>\n",
       "    </tr>\n",
       "  </thead>\n",
       "  <tbody>\n",
       "    <tr>\n",
       "      <th>0</th>\n",
       "      <td>McLaren Senna GTR</td>\n",
       "      <td>$1.7 Million</td>\n",
       "    </tr>\n",
       "    <tr>\n",
       "      <th>1</th>\n",
       "      <td>Czinger 21C</td>\n",
       "      <td>$1.7 Million</td>\n",
       "    </tr>\n",
       "    <tr>\n",
       "      <th>2</th>\n",
       "      <td>Ferrari Monza</td>\n",
       "      <td>$1.7 Million</td>\n",
       "    </tr>\n",
       "    <tr>\n",
       "      <th>3</th>\n",
       "      <td>Gordon Murray T.33</td>\n",
       "      <td>$1.7 Million</td>\n",
       "    </tr>\n",
       "    <tr>\n",
       "      <th>4</th>\n",
       "      <td>Koenigsegg Gemera</td>\n",
       "      <td>$1.7 Million</td>\n",
       "    </tr>\n",
       "    <tr>\n",
       "      <th>5</th>\n",
       "      <td>Hennessey Venom F5</td>\n",
       "      <td>$1.8 Million</td>\n",
       "    </tr>\n",
       "    <tr>\n",
       "      <th>6</th>\n",
       "      <td>Bentley Bacalar</td>\n",
       "      <td>$1.9 Million</td>\n",
       "    </tr>\n",
       "    <tr>\n",
       "      <th>7</th>\n",
       "      <td>Hispano Suiza Carmen Boulogne</td>\n",
       "      <td>$1.9 Million</td>\n",
       "    </tr>\n",
       "    <tr>\n",
       "      <th>8</th>\n",
       "      <td>Bentley Mulliner Batur</td>\n",
       "      <td>$2.0 Million</td>\n",
       "    </tr>\n",
       "    <tr>\n",
       "      <th>9</th>\n",
       "      <td>SSC Tuatara</td>\n",
       "      <td>$2.0 Million</td>\n",
       "    </tr>\n",
       "    <tr>\n",
       "      <th>10</th>\n",
       "      <td>Lotus Evija</td>\n",
       "      <td>$2.1 Million</td>\n",
       "    </tr>\n",
       "    <tr>\n",
       "      <th>11</th>\n",
       "      <td>Aston Martin Vulcan</td>\n",
       "      <td>$2.3 Million</td>\n",
       "    </tr>\n",
       "    <tr>\n",
       "      <th>12</th>\n",
       "      <td>Delage D12</td>\n",
       "      <td>$2.3 Million</td>\n",
       "    </tr>\n",
       "    <tr>\n",
       "      <th>13</th>\n",
       "      <td>Ferrari Daytona SP3</td>\n",
       "      <td>$2.3 Million</td>\n",
       "    </tr>\n",
       "    <tr>\n",
       "      <th>14</th>\n",
       "      <td>McLaren Speedtail</td>\n",
       "      <td>$2.3 Million</td>\n",
       "    </tr>\n",
       "    <tr>\n",
       "      <th>15</th>\n",
       "      <td>Rimac Nevera</td>\n",
       "      <td>$2.4 Million</td>\n",
       "    </tr>\n",
       "    <tr>\n",
       "      <th>16</th>\n",
       "      <td>Pagani Utopia</td>\n",
       "      <td>$2.5 Million</td>\n",
       "    </tr>\n",
       "    <tr>\n",
       "      <th>17</th>\n",
       "      <td>Pininfarina Battista</td>\n",
       "      <td>$2.5 Million</td>\n",
       "    </tr>\n",
       "    <tr>\n",
       "      <th>18</th>\n",
       "      <td>Gordon Murray T.50</td>\n",
       "      <td>$2.6 Million</td>\n",
       "    </tr>\n",
       "    <tr>\n",
       "      <th>19</th>\n",
       "      <td>Lamborghini Countach</td>\n",
       "      <td>$2.6 Million</td>\n",
       "    </tr>\n",
       "    <tr>\n",
       "      <th>20</th>\n",
       "      <td>Hennessey Venom F5 Revolution</td>\n",
       "      <td>$2.7 Million</td>\n",
       "    </tr>\n",
       "    <tr>\n",
       "      <th>21</th>\n",
       "      <td>Mercedes-AMG Project One</td>\n",
       "      <td>$2.7 Million</td>\n",
       "    </tr>\n",
       "    <tr>\n",
       "      <th>22</th>\n",
       "      <td>Zenvo Aurora</td>\n",
       "      <td>$2.8 Million</td>\n",
       "    </tr>\n",
       "    <tr>\n",
       "      <th>23</th>\n",
       "      <td>Aston Martin Victor</td>\n",
       "      <td>$3.0 Million</td>\n",
       "    </tr>\n",
       "    <tr>\n",
       "      <th>24</th>\n",
       "      <td>Hennessey Venom F5 Roadster</td>\n",
       "      <td>$3.0 Million</td>\n",
       "    </tr>\n",
       "    <tr>\n",
       "      <th>25</th>\n",
       "      <td>Koenigsegg Jesko</td>\n",
       "      <td>$3.0 Million</td>\n",
       "    </tr>\n",
       "    <tr>\n",
       "      <th>26</th>\n",
       "      <td>Aspark Owl</td>\n",
       "      <td>$3.1 Million</td>\n",
       "    </tr>\n",
       "    <tr>\n",
       "      <th>27</th>\n",
       "      <td>Aston Martin Valkyrie</td>\n",
       "      <td>$3.2 Million</td>\n",
       "    </tr>\n",
       "    <tr>\n",
       "      <th>28</th>\n",
       "      <td>W Motors Lykan Hypersport</td>\n",
       "      <td>$3.4 Million</td>\n",
       "    </tr>\n",
       "    <tr>\n",
       "      <th>29</th>\n",
       "      <td>McLaren Solus</td>\n",
       "      <td>$3.5 Million</td>\n",
       "    </tr>\n",
       "    <tr>\n",
       "      <th>30</th>\n",
       "      <td>Pagani Huayra Evo R</td>\n",
       "      <td>$3.5 Million (est.)</td>\n",
       "    </tr>\n",
       "    <tr>\n",
       "      <th>31</th>\n",
       "      <td>Lamborghini Sian</td>\n",
       "      <td>$3.6 million</td>\n",
       "    </tr>\n",
       "    <tr>\n",
       "      <th>32</th>\n",
       "      <td>Koenigsegg CC850</td>\n",
       "      <td>$3.7 Million</td>\n",
       "    </tr>\n",
       "    <tr>\n",
       "      <th>33</th>\n",
       "      <td>Bugatti Chiron Super Sport 300+</td>\n",
       "      <td>$3.9 Million</td>\n",
       "    </tr>\n",
       "    <tr>\n",
       "      <th>34</th>\n",
       "      <td>Gordon Murray Automotive T.50s Niki Lauda</td>\n",
       "      <td>$3.9 Million</td>\n",
       "    </tr>\n",
       "    <tr>\n",
       "      <th>35</th>\n",
       "      <td>Pagani Huayra Roadster BC</td>\n",
       "      <td>$4.0 Million</td>\n",
       "    </tr>\n",
       "    <tr>\n",
       "      <th>36</th>\n",
       "      <td>Lamborghini Veneno</td>\n",
       "      <td>$4.5 Million</td>\n",
       "    </tr>\n",
       "    <tr>\n",
       "      <th>37</th>\n",
       "      <td>Bugatti Bolide</td>\n",
       "      <td>$4.7 Million</td>\n",
       "    </tr>\n",
       "    <tr>\n",
       "      <th>38</th>\n",
       "      <td>Pininfarina B95 Speedster</td>\n",
       "      <td>$4.8 Million</td>\n",
       "    </tr>\n",
       "    <tr>\n",
       "      <th>39</th>\n",
       "      <td>Bugatti Mistral</td>\n",
       "      <td>$5.0 Million</td>\n",
       "    </tr>\n",
       "    <tr>\n",
       "      <th>40</th>\n",
       "      <td>Bugatti Divo</td>\n",
       "      <td>$5.8 Million</td>\n",
       "    </tr>\n",
       "    <tr>\n",
       "      <th>41</th>\n",
       "      <td>Pagani Huayra Imola</td>\n",
       "      <td>$6.0 Million</td>\n",
       "    </tr>\n",
       "    <tr>\n",
       "      <th>42</th>\n",
       "      <td>Pagani Codalunga</td>\n",
       "      <td>$7.4 Million</td>\n",
       "    </tr>\n",
       "    <tr>\n",
       "      <th>43</th>\n",
       "      <td>Mercedes-Maybach Exelero</td>\n",
       "      <td>$8.0 Million</td>\n",
       "    </tr>\n",
       "    <tr>\n",
       "      <th>44</th>\n",
       "      <td>Bugatti Centodieci</td>\n",
       "      <td>$9.0 Million</td>\n",
       "    </tr>\n",
       "    <tr>\n",
       "      <th>45</th>\n",
       "      <td>Bugatti Chiron Profilée</td>\n",
       "      <td>$10.8 Million</td>\n",
       "    </tr>\n",
       "    <tr>\n",
       "      <th>46</th>\n",
       "      <td>Rolls-Royce Sweptail</td>\n",
       "      <td>$12.8 Million</td>\n",
       "    </tr>\n",
       "    <tr>\n",
       "      <th>47</th>\n",
       "      <td>Bugatti La Voiture Noire</td>\n",
       "      <td>$13.4 Million</td>\n",
       "    </tr>\n",
       "    <tr>\n",
       "      <th>48</th>\n",
       "      <td>Rolls-Royce Boat Tail</td>\n",
       "      <td>$28.0 Million (est.)</td>\n",
       "    </tr>\n",
       "    <tr>\n",
       "      <th>49</th>\n",
       "      <td>Rolls-Royce La Rose Noire Droptail</td>\n",
       "      <td>$30 Million (est.)</td>\n",
       "    </tr>\n",
       "  </tbody>\n",
       "</table>\n",
       "</div>"
      ],
      "text/plain": [
       "                                     Car Name                 Price\n",
       "0                           McLaren Senna GTR          $1.7 Million\n",
       "1                                 Czinger 21C          $1.7 Million\n",
       "2                               Ferrari Monza          $1.7 Million\n",
       "3                          Gordon Murray T.33          $1.7 Million\n",
       "4                           Koenigsegg Gemera          $1.7 Million\n",
       "5                          Hennessey Venom F5          $1.8 Million\n",
       "6                             Bentley Bacalar          $1.9 Million\n",
       "7               Hispano Suiza Carmen Boulogne          $1.9 Million\n",
       "8                      Bentley Mulliner Batur          $2.0 Million\n",
       "9                                 SSC Tuatara          $2.0 Million\n",
       "10                                Lotus Evija          $2.1 Million\n",
       "11                        Aston Martin Vulcan          $2.3 Million\n",
       "12                                 Delage D12          $2.3 Million\n",
       "13                        Ferrari Daytona SP3          $2.3 Million\n",
       "14                          McLaren Speedtail          $2.3 Million\n",
       "15                               Rimac Nevera          $2.4 Million\n",
       "16                              Pagani Utopia          $2.5 Million\n",
       "17                       Pininfarina Battista          $2.5 Million\n",
       "18                         Gordon Murray T.50          $2.6 Million\n",
       "19                       Lamborghini Countach          $2.6 Million\n",
       "20              Hennessey Venom F5 Revolution          $2.7 Million\n",
       "21                   Mercedes-AMG Project One          $2.7 Million\n",
       "22                               Zenvo Aurora          $2.8 Million\n",
       "23                        Aston Martin Victor          $3.0 Million\n",
       "24                Hennessey Venom F5 Roadster          $3.0 Million\n",
       "25                           Koenigsegg Jesko          $3.0 Million\n",
       "26                                 Aspark Owl          $3.1 Million\n",
       "27                      Aston Martin Valkyrie          $3.2 Million\n",
       "28                  W Motors Lykan Hypersport          $3.4 Million\n",
       "29                              McLaren Solus          $3.5 Million\n",
       "30                        Pagani Huayra Evo R   $3.5 Million (est.)\n",
       "31                           Lamborghini Sian          $3.6 million\n",
       "32                           Koenigsegg CC850          $3.7 Million\n",
       "33            Bugatti Chiron Super Sport 300+          $3.9 Million\n",
       "34  Gordon Murray Automotive T.50s Niki Lauda          $3.9 Million\n",
       "35                  Pagani Huayra Roadster BC          $4.0 Million\n",
       "36                         Lamborghini Veneno          $4.5 Million\n",
       "37                             Bugatti Bolide          $4.7 Million\n",
       "38                  Pininfarina B95 Speedster          $4.8 Million\n",
       "39                            Bugatti Mistral          $5.0 Million\n",
       "40                               Bugatti Divo          $5.8 Million\n",
       "41                        Pagani Huayra Imola          $6.0 Million\n",
       "42                           Pagani Codalunga          $7.4 Million\n",
       "43                   Mercedes-Maybach Exelero          $8.0 Million\n",
       "44                         Bugatti Centodieci          $9.0 Million\n",
       "45                    Bugatti Chiron Profilée         $10.8 Million\n",
       "46                       Rolls-Royce Sweptail         $12.8 Million\n",
       "47                   Bugatti La Voiture Noire         $13.4 Million\n",
       "48                      Rolls-Royce Boat Tail  $28.0 Million (est.)\n",
       "49         Rolls-Royce La Rose Noire Droptail    $30 Million (est.)"
      ]
     },
     "execution_count": 136,
     "metadata": {},
     "output_type": "execute_result"
    }
   ],
   "source": [
    "Expensive_Cars"
   ]
  },
  {
   "cell_type": "code",
   "execution_count": null,
   "id": "cf6a61d7-f805-429d-9832-9b9557ed87e6",
   "metadata": {},
   "outputs": [],
   "source": []
  }
 ],
 "metadata": {
  "kernelspec": {
   "display_name": "Python 3 (ipykernel)",
   "language": "python",
   "name": "python3"
  },
  "language_info": {
   "codemirror_mode": {
    "name": "ipython",
    "version": 3
   },
   "file_extension": ".py",
   "mimetype": "text/x-python",
   "name": "python",
   "nbconvert_exporter": "python",
   "pygments_lexer": "ipython3",
   "version": "3.11.5"
  }
 },
 "nbformat": 4,
 "nbformat_minor": 5
}
